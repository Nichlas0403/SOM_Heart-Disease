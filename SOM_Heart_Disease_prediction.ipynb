{
  "nbformat": 4,
  "nbformat_minor": 0,
  "metadata": {
    "colab": {
      "name": "SOM - Heart Disease prediction.ipynb",
      "provenance": [],
      "collapsed_sections": [],
      "toc_visible": true,
      "mount_file_id": "1wIIaA1fjnn3yJdD3jxJVZIU4R7F3SuT2",
      "authorship_tag": "ABX9TyOFiII4ZfD/8oAlT0UJ7bl+",
      "include_colab_link": true
    },
    "kernelspec": {
      "name": "python3",
      "display_name": "Python 3"
    },
    "language_info": {
      "name": "python"
    }
  },
  "cells": [
    {
      "cell_type": "markdown",
      "metadata": {
        "id": "view-in-github",
        "colab_type": "text"
      },
      "source": [
        "<a href=\"https://colab.research.google.com/github/Nichlas0403/SOM_Heart-Disease/blob/main/SOM_Heart_Disease_prediction.ipynb\" target=\"_parent\"><img src=\"https://colab.research.google.com/assets/colab-badge.svg\" alt=\"Open In Colab\"/></a>"
      ]
    },
    {
      "cell_type": "markdown",
      "metadata": {
        "id": "g17iPiCUDHcW"
      },
      "source": [
        "#Goal\n",
        "\n",
        "**Predicting heart disease using machine learning**\n",
        "\n",
        "This notebook tries to create a self-organized map of data where some patiens have a heart disease and some doesn't. The data that will be used already contains a target column telling this information for each patient. When creating the SOM, this column will be removed. \n",
        "\n",
        "## 1. Problem Definition\n",
        "\n",
        "Given clinical parameters about a patient, can we predict wether or not they have heart disease?\n",
        "\n",
        "## 2. Data\n",
        "\n",
        "The original data came from Cleveland data from the UCI Machine Learning Repository.\n",
        "\n",
        "https://archive.ics.uci.edu/ml/datasets/heart+Disease \n",
        "    \n",
        "\n",
        "## 3. Features\n",
        "\n",
        "14 attributes used:\n",
        "\n",
        "1. age - age in years\n",
        "2. sex - (1 = male; 0 = female)\n",
        "3. cp - chest pain type\n",
        "    0: Typical angina: chest pain related decrease blood supply to the heart\n",
        "    1: Atypical angina: chest pain not related to heart\n",
        "    2: Non-anginal pain: typically esophageal spasms (non heart related)\n",
        "    3: Asymptomatic: chest pain not showing signs of disease\n",
        "4. trestbps - resting blood pressure (in mm Hg on admission to the hospital) \n",
        "    * anything above 130-140 is typically cause for concern\n",
        "5. chol - serum cholestoral in mg/dl\n",
        "    * serum = LDL + HDL + .2 * triglycerides\n",
        "    * above 200 is cause for concern\n",
        "6. fbs - (fasting blood sugar > 120 mg/dl) (1 = true; 0 = false)\n",
        "    * '>126' mg/dL signals diabetes\n",
        "7. restecg - resting electrocardiographic results\n",
        "    0: Nothing to note\n",
        "    1: ST-T Wave abnormality\n",
        "        can range from mild symptoms to severe problems\n",
        "        signals non-normal heart beat\n",
        "    2: Possible or definite left ventricular hypertrophy\n",
        "        Enlarged heart's main pumping chamber\n",
        "8. thalach - maximum heart rate achieved\n",
        "9. exang - exercise induced angina (1 = yes; 0 = no)\n",
        "10. oldpeak - ST depression induced by exercise relative to rest\n",
        "    * looks at stress of heart during excercise\n",
        "    * unhealthy heart will stress more\n",
        "11. slope - the slope of the peak exercise ST segment\n",
        "    0: Upsloping: better heart rate with excercise (uncommon)\n",
        "    1: Flatsloping: minimal change (typical healthy heart)\n",
        "    2: Downslopins: signs of unhealthy heart\n",
        "12. ca - number of major vessels (0-3) colored by flourosopy\n",
        "    * colored vessel means the doctor can see the blood passing through\n",
        "    * the more blood movement the better (no clots)\n",
        "13. thal - thalium stress result\n",
        "    1,3: normal\n",
        "    6: fixed defect: used to be defect but ok now\n",
        "    7: reversable defect: no proper blood movement when excercising\n",
        "14. target - have disease or not (1=yes, 0=no) (= the predicted attribute)"
      ]
    },
    {
      "cell_type": "markdown",
      "metadata": {
        "id": "qrju1Sfr7yKL"
      },
      "source": [
        "#Preparation"
      ]
    },
    {
      "cell_type": "code",
      "metadata": {
        "id": "sMRakHTDDvMI"
      },
      "source": [
        "#Importing tools\n",
        "import pandas as pd\n",
        "import numpy as np\n",
        "import matplotlib.pyplot as plt\n",
        "import seaborn as sns\n",
        "%matplotlib inline\n",
        "import seaborn as sns"
      ],
      "execution_count": 1,
      "outputs": []
    },
    {
      "cell_type": "code",
      "metadata": {
        "id": "IHLe3StPD_fB",
        "colab": {
          "base_uri": "https://localhost:8080/",
          "height": 194
        },
        "outputId": "1d0a3366-9968-49d1-904d-3289e9ee06fb"
      },
      "source": [
        "## Load data\n",
        "df = pd.read_csv(\"/content/drive/MyDrive/Data Science, Machine Learning/Colab Notebooks/Deep Learning Projects/Self-Organizing Maps/Heart Disease/data/heart-disease.csv\")\n",
        "df.head()"
      ],
      "execution_count": 2,
      "outputs": [
        {
          "output_type": "execute_result",
          "data": {
            "text/html": [
              "<div>\n",
              "<style scoped>\n",
              "    .dataframe tbody tr th:only-of-type {\n",
              "        vertical-align: middle;\n",
              "    }\n",
              "\n",
              "    .dataframe tbody tr th {\n",
              "        vertical-align: top;\n",
              "    }\n",
              "\n",
              "    .dataframe thead th {\n",
              "        text-align: right;\n",
              "    }\n",
              "</style>\n",
              "<table border=\"1\" class=\"dataframe\">\n",
              "  <thead>\n",
              "    <tr style=\"text-align: right;\">\n",
              "      <th></th>\n",
              "      <th>age</th>\n",
              "      <th>sex</th>\n",
              "      <th>cp</th>\n",
              "      <th>trestbps</th>\n",
              "      <th>chol</th>\n",
              "      <th>fbs</th>\n",
              "      <th>restecg</th>\n",
              "      <th>thalach</th>\n",
              "      <th>exang</th>\n",
              "      <th>oldpeak</th>\n",
              "      <th>slope</th>\n",
              "      <th>ca</th>\n",
              "      <th>thal</th>\n",
              "      <th>target</th>\n",
              "    </tr>\n",
              "  </thead>\n",
              "  <tbody>\n",
              "    <tr>\n",
              "      <th>0</th>\n",
              "      <td>63</td>\n",
              "      <td>1</td>\n",
              "      <td>3</td>\n",
              "      <td>145</td>\n",
              "      <td>233</td>\n",
              "      <td>1</td>\n",
              "      <td>0</td>\n",
              "      <td>150</td>\n",
              "      <td>0</td>\n",
              "      <td>2.3</td>\n",
              "      <td>0</td>\n",
              "      <td>0</td>\n",
              "      <td>1</td>\n",
              "      <td>1</td>\n",
              "    </tr>\n",
              "    <tr>\n",
              "      <th>1</th>\n",
              "      <td>37</td>\n",
              "      <td>1</td>\n",
              "      <td>2</td>\n",
              "      <td>130</td>\n",
              "      <td>250</td>\n",
              "      <td>0</td>\n",
              "      <td>1</td>\n",
              "      <td>187</td>\n",
              "      <td>0</td>\n",
              "      <td>3.5</td>\n",
              "      <td>0</td>\n",
              "      <td>0</td>\n",
              "      <td>2</td>\n",
              "      <td>1</td>\n",
              "    </tr>\n",
              "    <tr>\n",
              "      <th>2</th>\n",
              "      <td>41</td>\n",
              "      <td>0</td>\n",
              "      <td>1</td>\n",
              "      <td>130</td>\n",
              "      <td>204</td>\n",
              "      <td>0</td>\n",
              "      <td>0</td>\n",
              "      <td>172</td>\n",
              "      <td>0</td>\n",
              "      <td>1.4</td>\n",
              "      <td>2</td>\n",
              "      <td>0</td>\n",
              "      <td>2</td>\n",
              "      <td>1</td>\n",
              "    </tr>\n",
              "    <tr>\n",
              "      <th>3</th>\n",
              "      <td>56</td>\n",
              "      <td>1</td>\n",
              "      <td>1</td>\n",
              "      <td>120</td>\n",
              "      <td>236</td>\n",
              "      <td>0</td>\n",
              "      <td>1</td>\n",
              "      <td>178</td>\n",
              "      <td>0</td>\n",
              "      <td>0.8</td>\n",
              "      <td>2</td>\n",
              "      <td>0</td>\n",
              "      <td>2</td>\n",
              "      <td>1</td>\n",
              "    </tr>\n",
              "    <tr>\n",
              "      <th>4</th>\n",
              "      <td>57</td>\n",
              "      <td>0</td>\n",
              "      <td>0</td>\n",
              "      <td>120</td>\n",
              "      <td>354</td>\n",
              "      <td>0</td>\n",
              "      <td>1</td>\n",
              "      <td>163</td>\n",
              "      <td>1</td>\n",
              "      <td>0.6</td>\n",
              "      <td>2</td>\n",
              "      <td>0</td>\n",
              "      <td>2</td>\n",
              "      <td>1</td>\n",
              "    </tr>\n",
              "  </tbody>\n",
              "</table>\n",
              "</div>"
            ],
            "text/plain": [
              "   age  sex  cp  trestbps  chol  fbs  ...  exang  oldpeak  slope  ca  thal  target\n",
              "0   63    1   3       145   233    1  ...      0      2.3      0   0     1       1\n",
              "1   37    1   2       130   250    0  ...      0      3.5      0   0     2       1\n",
              "2   41    0   1       130   204    0  ...      0      1.4      2   0     2       1\n",
              "3   56    1   1       120   236    0  ...      0      0.8      2   0     2       1\n",
              "4   57    0   0       120   354    0  ...      1      0.6      2   0     2       1\n",
              "\n",
              "[5 rows x 14 columns]"
            ]
          },
          "metadata": {
            "tags": []
          },
          "execution_count": 2
        }
      ]
    },
    {
      "cell_type": "code",
      "metadata": {
        "colab": {
          "base_uri": "https://localhost:8080/"
        },
        "id": "xT7JIZK3708Y",
        "outputId": "f352fdbb-2104-424c-fbfc-6c1a8778692e"
      },
      "source": [
        "df.info()"
      ],
      "execution_count": 3,
      "outputs": [
        {
          "output_type": "stream",
          "text": [
            "<class 'pandas.core.frame.DataFrame'>\n",
            "RangeIndex: 303 entries, 0 to 302\n",
            "Data columns (total 14 columns):\n",
            " #   Column    Non-Null Count  Dtype  \n",
            "---  ------    --------------  -----  \n",
            " 0   age       303 non-null    int64  \n",
            " 1   sex       303 non-null    int64  \n",
            " 2   cp        303 non-null    int64  \n",
            " 3   trestbps  303 non-null    int64  \n",
            " 4   chol      303 non-null    int64  \n",
            " 5   fbs       303 non-null    int64  \n",
            " 6   restecg   303 non-null    int64  \n",
            " 7   thalach   303 non-null    int64  \n",
            " 8   exang     303 non-null    int64  \n",
            " 9   oldpeak   303 non-null    float64\n",
            " 10  slope     303 non-null    int64  \n",
            " 11  ca        303 non-null    int64  \n",
            " 12  thal      303 non-null    int64  \n",
            " 13  target    303 non-null    int64  \n",
            "dtypes: float64(1), int64(13)\n",
            "memory usage: 33.3 KB\n"
          ],
          "name": "stdout"
        }
      ]
    },
    {
      "cell_type": "code",
      "metadata": {
        "id": "tDAtZLbUBI3P"
      },
      "source": [
        "df[\"id\"] = pd.Series(range(0,len(df)))"
      ],
      "execution_count": 4,
      "outputs": []
    },
    {
      "cell_type": "code",
      "metadata": {
        "colab": {
          "base_uri": "https://localhost:8080/",
          "height": 194
        },
        "id": "C-S8Vxqs8GcO",
        "outputId": "482ccc9d-b046-4c6a-e9fb-53513dd107a6"
      },
      "source": [
        "df.head()"
      ],
      "execution_count": 5,
      "outputs": [
        {
          "output_type": "execute_result",
          "data": {
            "text/html": [
              "<div>\n",
              "<style scoped>\n",
              "    .dataframe tbody tr th:only-of-type {\n",
              "        vertical-align: middle;\n",
              "    }\n",
              "\n",
              "    .dataframe tbody tr th {\n",
              "        vertical-align: top;\n",
              "    }\n",
              "\n",
              "    .dataframe thead th {\n",
              "        text-align: right;\n",
              "    }\n",
              "</style>\n",
              "<table border=\"1\" class=\"dataframe\">\n",
              "  <thead>\n",
              "    <tr style=\"text-align: right;\">\n",
              "      <th></th>\n",
              "      <th>age</th>\n",
              "      <th>sex</th>\n",
              "      <th>cp</th>\n",
              "      <th>trestbps</th>\n",
              "      <th>chol</th>\n",
              "      <th>fbs</th>\n",
              "      <th>restecg</th>\n",
              "      <th>thalach</th>\n",
              "      <th>exang</th>\n",
              "      <th>oldpeak</th>\n",
              "      <th>slope</th>\n",
              "      <th>ca</th>\n",
              "      <th>thal</th>\n",
              "      <th>target</th>\n",
              "      <th>id</th>\n",
              "    </tr>\n",
              "  </thead>\n",
              "  <tbody>\n",
              "    <tr>\n",
              "      <th>0</th>\n",
              "      <td>63</td>\n",
              "      <td>1</td>\n",
              "      <td>3</td>\n",
              "      <td>145</td>\n",
              "      <td>233</td>\n",
              "      <td>1</td>\n",
              "      <td>0</td>\n",
              "      <td>150</td>\n",
              "      <td>0</td>\n",
              "      <td>2.3</td>\n",
              "      <td>0</td>\n",
              "      <td>0</td>\n",
              "      <td>1</td>\n",
              "      <td>1</td>\n",
              "      <td>0</td>\n",
              "    </tr>\n",
              "    <tr>\n",
              "      <th>1</th>\n",
              "      <td>37</td>\n",
              "      <td>1</td>\n",
              "      <td>2</td>\n",
              "      <td>130</td>\n",
              "      <td>250</td>\n",
              "      <td>0</td>\n",
              "      <td>1</td>\n",
              "      <td>187</td>\n",
              "      <td>0</td>\n",
              "      <td>3.5</td>\n",
              "      <td>0</td>\n",
              "      <td>0</td>\n",
              "      <td>2</td>\n",
              "      <td>1</td>\n",
              "      <td>1</td>\n",
              "    </tr>\n",
              "    <tr>\n",
              "      <th>2</th>\n",
              "      <td>41</td>\n",
              "      <td>0</td>\n",
              "      <td>1</td>\n",
              "      <td>130</td>\n",
              "      <td>204</td>\n",
              "      <td>0</td>\n",
              "      <td>0</td>\n",
              "      <td>172</td>\n",
              "      <td>0</td>\n",
              "      <td>1.4</td>\n",
              "      <td>2</td>\n",
              "      <td>0</td>\n",
              "      <td>2</td>\n",
              "      <td>1</td>\n",
              "      <td>2</td>\n",
              "    </tr>\n",
              "    <tr>\n",
              "      <th>3</th>\n",
              "      <td>56</td>\n",
              "      <td>1</td>\n",
              "      <td>1</td>\n",
              "      <td>120</td>\n",
              "      <td>236</td>\n",
              "      <td>0</td>\n",
              "      <td>1</td>\n",
              "      <td>178</td>\n",
              "      <td>0</td>\n",
              "      <td>0.8</td>\n",
              "      <td>2</td>\n",
              "      <td>0</td>\n",
              "      <td>2</td>\n",
              "      <td>1</td>\n",
              "      <td>3</td>\n",
              "    </tr>\n",
              "    <tr>\n",
              "      <th>4</th>\n",
              "      <td>57</td>\n",
              "      <td>0</td>\n",
              "      <td>0</td>\n",
              "      <td>120</td>\n",
              "      <td>354</td>\n",
              "      <td>0</td>\n",
              "      <td>1</td>\n",
              "      <td>163</td>\n",
              "      <td>1</td>\n",
              "      <td>0.6</td>\n",
              "      <td>2</td>\n",
              "      <td>0</td>\n",
              "      <td>2</td>\n",
              "      <td>1</td>\n",
              "      <td>4</td>\n",
              "    </tr>\n",
              "  </tbody>\n",
              "</table>\n",
              "</div>"
            ],
            "text/plain": [
              "   age  sex  cp  trestbps  chol  fbs  ...  oldpeak  slope  ca  thal  target  id\n",
              "0   63    1   3       145   233    1  ...      2.3      0   0     1       1   0\n",
              "1   37    1   2       130   250    0  ...      3.5      0   0     2       1   1\n",
              "2   41    0   1       130   204    0  ...      1.4      2   0     2       1   2\n",
              "3   56    1   1       120   236    0  ...      0.8      2   0     2       1   3\n",
              "4   57    0   0       120   354    0  ...      0.6      2   0     2       1   4\n",
              "\n",
              "[5 rows x 15 columns]"
            ]
          },
          "metadata": {
            "tags": []
          },
          "execution_count": 5
        }
      ]
    },
    {
      "cell_type": "code",
      "metadata": {
        "id": "P_PHKbmdQ3Zs"
      },
      "source": [
        "df = df.sample(frac=1)"
      ],
      "execution_count": 6,
      "outputs": []
    },
    {
      "cell_type": "code",
      "metadata": {
        "colab": {
          "base_uri": "https://localhost:8080/",
          "height": 194
        },
        "id": "LDZs-iNdQ9e2",
        "outputId": "c7e5ee5c-26f0-44f1-c423-c8d5c917a60d"
      },
      "source": [
        "df.head()"
      ],
      "execution_count": 7,
      "outputs": [
        {
          "output_type": "execute_result",
          "data": {
            "text/html": [
              "<div>\n",
              "<style scoped>\n",
              "    .dataframe tbody tr th:only-of-type {\n",
              "        vertical-align: middle;\n",
              "    }\n",
              "\n",
              "    .dataframe tbody tr th {\n",
              "        vertical-align: top;\n",
              "    }\n",
              "\n",
              "    .dataframe thead th {\n",
              "        text-align: right;\n",
              "    }\n",
              "</style>\n",
              "<table border=\"1\" class=\"dataframe\">\n",
              "  <thead>\n",
              "    <tr style=\"text-align: right;\">\n",
              "      <th></th>\n",
              "      <th>age</th>\n",
              "      <th>sex</th>\n",
              "      <th>cp</th>\n",
              "      <th>trestbps</th>\n",
              "      <th>chol</th>\n",
              "      <th>fbs</th>\n",
              "      <th>restecg</th>\n",
              "      <th>thalach</th>\n",
              "      <th>exang</th>\n",
              "      <th>oldpeak</th>\n",
              "      <th>slope</th>\n",
              "      <th>ca</th>\n",
              "      <th>thal</th>\n",
              "      <th>target</th>\n",
              "      <th>id</th>\n",
              "    </tr>\n",
              "  </thead>\n",
              "  <tbody>\n",
              "    <tr>\n",
              "      <th>171</th>\n",
              "      <td>48</td>\n",
              "      <td>1</td>\n",
              "      <td>1</td>\n",
              "      <td>110</td>\n",
              "      <td>229</td>\n",
              "      <td>0</td>\n",
              "      <td>1</td>\n",
              "      <td>168</td>\n",
              "      <td>0</td>\n",
              "      <td>1.0</td>\n",
              "      <td>0</td>\n",
              "      <td>0</td>\n",
              "      <td>3</td>\n",
              "      <td>0</td>\n",
              "      <td>171</td>\n",
              "    </tr>\n",
              "    <tr>\n",
              "      <th>288</th>\n",
              "      <td>57</td>\n",
              "      <td>1</td>\n",
              "      <td>0</td>\n",
              "      <td>110</td>\n",
              "      <td>335</td>\n",
              "      <td>0</td>\n",
              "      <td>1</td>\n",
              "      <td>143</td>\n",
              "      <td>1</td>\n",
              "      <td>3.0</td>\n",
              "      <td>1</td>\n",
              "      <td>1</td>\n",
              "      <td>3</td>\n",
              "      <td>0</td>\n",
              "      <td>288</td>\n",
              "    </tr>\n",
              "    <tr>\n",
              "      <th>163</th>\n",
              "      <td>38</td>\n",
              "      <td>1</td>\n",
              "      <td>2</td>\n",
              "      <td>138</td>\n",
              "      <td>175</td>\n",
              "      <td>0</td>\n",
              "      <td>1</td>\n",
              "      <td>173</td>\n",
              "      <td>0</td>\n",
              "      <td>0.0</td>\n",
              "      <td>2</td>\n",
              "      <td>4</td>\n",
              "      <td>2</td>\n",
              "      <td>1</td>\n",
              "      <td>163</td>\n",
              "    </tr>\n",
              "    <tr>\n",
              "      <th>212</th>\n",
              "      <td>39</td>\n",
              "      <td>1</td>\n",
              "      <td>0</td>\n",
              "      <td>118</td>\n",
              "      <td>219</td>\n",
              "      <td>0</td>\n",
              "      <td>1</td>\n",
              "      <td>140</td>\n",
              "      <td>0</td>\n",
              "      <td>1.2</td>\n",
              "      <td>1</td>\n",
              "      <td>0</td>\n",
              "      <td>3</td>\n",
              "      <td>0</td>\n",
              "      <td>212</td>\n",
              "    </tr>\n",
              "    <tr>\n",
              "      <th>250</th>\n",
              "      <td>51</td>\n",
              "      <td>1</td>\n",
              "      <td>0</td>\n",
              "      <td>140</td>\n",
              "      <td>298</td>\n",
              "      <td>0</td>\n",
              "      <td>1</td>\n",
              "      <td>122</td>\n",
              "      <td>1</td>\n",
              "      <td>4.2</td>\n",
              "      <td>1</td>\n",
              "      <td>3</td>\n",
              "      <td>3</td>\n",
              "      <td>0</td>\n",
              "      <td>250</td>\n",
              "    </tr>\n",
              "  </tbody>\n",
              "</table>\n",
              "</div>"
            ],
            "text/plain": [
              "     age  sex  cp  trestbps  chol  fbs  ...  oldpeak  slope  ca  thal  target   id\n",
              "171   48    1   1       110   229    0  ...      1.0      0   0     3       0  171\n",
              "288   57    1   0       110   335    0  ...      3.0      1   1     3       0  288\n",
              "163   38    1   2       138   175    0  ...      0.0      2   4     2       1  163\n",
              "212   39    1   0       118   219    0  ...      1.2      1   0     3       0  212\n",
              "250   51    1   0       140   298    0  ...      4.2      1   3     3       0  250\n",
              "\n",
              "[5 rows x 15 columns]"
            ]
          },
          "metadata": {
            "tags": []
          },
          "execution_count": 7
        }
      ]
    },
    {
      "cell_type": "code",
      "metadata": {
        "id": "gRRWVbUx8EYq"
      },
      "source": [
        "df = df.drop(\"target\",axis=1)"
      ],
      "execution_count": 10,
      "outputs": []
    },
    {
      "cell_type": "code",
      "metadata": {
        "colab": {
          "base_uri": "https://localhost:8080/",
          "height": 194
        },
        "id": "7RIv4AzZBY8p",
        "outputId": "1ce11fec-2a93-4472-bd86-973799318035"
      },
      "source": [
        "df.head()"
      ],
      "execution_count": 11,
      "outputs": [
        {
          "output_type": "execute_result",
          "data": {
            "text/html": [
              "<div>\n",
              "<style scoped>\n",
              "    .dataframe tbody tr th:only-of-type {\n",
              "        vertical-align: middle;\n",
              "    }\n",
              "\n",
              "    .dataframe tbody tr th {\n",
              "        vertical-align: top;\n",
              "    }\n",
              "\n",
              "    .dataframe thead th {\n",
              "        text-align: right;\n",
              "    }\n",
              "</style>\n",
              "<table border=\"1\" class=\"dataframe\">\n",
              "  <thead>\n",
              "    <tr style=\"text-align: right;\">\n",
              "      <th></th>\n",
              "      <th>age</th>\n",
              "      <th>sex</th>\n",
              "      <th>cp</th>\n",
              "      <th>trestbps</th>\n",
              "      <th>chol</th>\n",
              "      <th>fbs</th>\n",
              "      <th>restecg</th>\n",
              "      <th>thalach</th>\n",
              "      <th>exang</th>\n",
              "      <th>oldpeak</th>\n",
              "      <th>slope</th>\n",
              "      <th>ca</th>\n",
              "      <th>thal</th>\n",
              "      <th>id</th>\n",
              "    </tr>\n",
              "  </thead>\n",
              "  <tbody>\n",
              "    <tr>\n",
              "      <th>171</th>\n",
              "      <td>48</td>\n",
              "      <td>1</td>\n",
              "      <td>1</td>\n",
              "      <td>110</td>\n",
              "      <td>229</td>\n",
              "      <td>0</td>\n",
              "      <td>1</td>\n",
              "      <td>168</td>\n",
              "      <td>0</td>\n",
              "      <td>1.0</td>\n",
              "      <td>0</td>\n",
              "      <td>0</td>\n",
              "      <td>3</td>\n",
              "      <td>171</td>\n",
              "    </tr>\n",
              "    <tr>\n",
              "      <th>288</th>\n",
              "      <td>57</td>\n",
              "      <td>1</td>\n",
              "      <td>0</td>\n",
              "      <td>110</td>\n",
              "      <td>335</td>\n",
              "      <td>0</td>\n",
              "      <td>1</td>\n",
              "      <td>143</td>\n",
              "      <td>1</td>\n",
              "      <td>3.0</td>\n",
              "      <td>1</td>\n",
              "      <td>1</td>\n",
              "      <td>3</td>\n",
              "      <td>288</td>\n",
              "    </tr>\n",
              "    <tr>\n",
              "      <th>163</th>\n",
              "      <td>38</td>\n",
              "      <td>1</td>\n",
              "      <td>2</td>\n",
              "      <td>138</td>\n",
              "      <td>175</td>\n",
              "      <td>0</td>\n",
              "      <td>1</td>\n",
              "      <td>173</td>\n",
              "      <td>0</td>\n",
              "      <td>0.0</td>\n",
              "      <td>2</td>\n",
              "      <td>4</td>\n",
              "      <td>2</td>\n",
              "      <td>163</td>\n",
              "    </tr>\n",
              "    <tr>\n",
              "      <th>212</th>\n",
              "      <td>39</td>\n",
              "      <td>1</td>\n",
              "      <td>0</td>\n",
              "      <td>118</td>\n",
              "      <td>219</td>\n",
              "      <td>0</td>\n",
              "      <td>1</td>\n",
              "      <td>140</td>\n",
              "      <td>0</td>\n",
              "      <td>1.2</td>\n",
              "      <td>1</td>\n",
              "      <td>0</td>\n",
              "      <td>3</td>\n",
              "      <td>212</td>\n",
              "    </tr>\n",
              "    <tr>\n",
              "      <th>250</th>\n",
              "      <td>51</td>\n",
              "      <td>1</td>\n",
              "      <td>0</td>\n",
              "      <td>140</td>\n",
              "      <td>298</td>\n",
              "      <td>0</td>\n",
              "      <td>1</td>\n",
              "      <td>122</td>\n",
              "      <td>1</td>\n",
              "      <td>4.2</td>\n",
              "      <td>1</td>\n",
              "      <td>3</td>\n",
              "      <td>3</td>\n",
              "      <td>250</td>\n",
              "    </tr>\n",
              "  </tbody>\n",
              "</table>\n",
              "</div>"
            ],
            "text/plain": [
              "     age  sex  cp  trestbps  chol  fbs  ...  exang  oldpeak  slope  ca  thal   id\n",
              "171   48    1   1       110   229    0  ...      0      1.0      0   0     3  171\n",
              "288   57    1   0       110   335    0  ...      1      3.0      1   1     3  288\n",
              "163   38    1   2       138   175    0  ...      0      0.0      2   4     2  163\n",
              "212   39    1   0       118   219    0  ...      0      1.2      1   0     3  212\n",
              "250   51    1   0       140   298    0  ...      1      4.2      1   3     3  250\n",
              "\n",
              "[5 rows x 14 columns]"
            ]
          },
          "metadata": {
            "tags": []
          },
          "execution_count": 11
        }
      ]
    },
    {
      "cell_type": "markdown",
      "metadata": {
        "id": "8RYZ9cyG6yFv"
      },
      "source": [
        "# DEA"
      ]
    },
    {
      "cell_type": "code",
      "metadata": {
        "colab": {
          "base_uri": "https://localhost:8080/"
        },
        "id": "R4UTbs1h8KQ1",
        "outputId": "81400833-cc1e-4784-fb45-e8ba4c71c831"
      },
      "source": [
        "df.isna().sum()"
      ],
      "execution_count": 12,
      "outputs": [
        {
          "output_type": "execute_result",
          "data": {
            "text/plain": [
              "age         0\n",
              "sex         0\n",
              "cp          0\n",
              "trestbps    0\n",
              "chol        0\n",
              "fbs         0\n",
              "restecg     0\n",
              "thalach     0\n",
              "exang       0\n",
              "oldpeak     0\n",
              "slope       0\n",
              "ca          0\n",
              "thal        0\n",
              "id          0\n",
              "dtype: int64"
            ]
          },
          "metadata": {
            "tags": []
          },
          "execution_count": 12
        }
      ]
    },
    {
      "cell_type": "code",
      "metadata": {
        "colab": {
          "base_uri": "https://localhost:8080/",
          "height": 302
        },
        "id": "0-Aq6ROI8LwC",
        "outputId": "5df56519-f8fa-4541-a55c-baabf466c4f6"
      },
      "source": [
        "df.describe()"
      ],
      "execution_count": 13,
      "outputs": [
        {
          "output_type": "execute_result",
          "data": {
            "text/html": [
              "<div>\n",
              "<style scoped>\n",
              "    .dataframe tbody tr th:only-of-type {\n",
              "        vertical-align: middle;\n",
              "    }\n",
              "\n",
              "    .dataframe tbody tr th {\n",
              "        vertical-align: top;\n",
              "    }\n",
              "\n",
              "    .dataframe thead th {\n",
              "        text-align: right;\n",
              "    }\n",
              "</style>\n",
              "<table border=\"1\" class=\"dataframe\">\n",
              "  <thead>\n",
              "    <tr style=\"text-align: right;\">\n",
              "      <th></th>\n",
              "      <th>age</th>\n",
              "      <th>sex</th>\n",
              "      <th>cp</th>\n",
              "      <th>trestbps</th>\n",
              "      <th>chol</th>\n",
              "      <th>fbs</th>\n",
              "      <th>restecg</th>\n",
              "      <th>thalach</th>\n",
              "      <th>exang</th>\n",
              "      <th>oldpeak</th>\n",
              "      <th>slope</th>\n",
              "      <th>ca</th>\n",
              "      <th>thal</th>\n",
              "      <th>id</th>\n",
              "    </tr>\n",
              "  </thead>\n",
              "  <tbody>\n",
              "    <tr>\n",
              "      <th>count</th>\n",
              "      <td>303.000000</td>\n",
              "      <td>303.000000</td>\n",
              "      <td>303.000000</td>\n",
              "      <td>303.000000</td>\n",
              "      <td>303.000000</td>\n",
              "      <td>303.000000</td>\n",
              "      <td>303.000000</td>\n",
              "      <td>303.000000</td>\n",
              "      <td>303.000000</td>\n",
              "      <td>303.000000</td>\n",
              "      <td>303.000000</td>\n",
              "      <td>303.000000</td>\n",
              "      <td>303.000000</td>\n",
              "      <td>303.000000</td>\n",
              "    </tr>\n",
              "    <tr>\n",
              "      <th>mean</th>\n",
              "      <td>54.366337</td>\n",
              "      <td>0.683168</td>\n",
              "      <td>0.966997</td>\n",
              "      <td>131.623762</td>\n",
              "      <td>246.264026</td>\n",
              "      <td>0.148515</td>\n",
              "      <td>0.528053</td>\n",
              "      <td>149.646865</td>\n",
              "      <td>0.326733</td>\n",
              "      <td>1.039604</td>\n",
              "      <td>1.399340</td>\n",
              "      <td>0.729373</td>\n",
              "      <td>2.313531</td>\n",
              "      <td>151.000000</td>\n",
              "    </tr>\n",
              "    <tr>\n",
              "      <th>std</th>\n",
              "      <td>9.082101</td>\n",
              "      <td>0.466011</td>\n",
              "      <td>1.032052</td>\n",
              "      <td>17.538143</td>\n",
              "      <td>51.830751</td>\n",
              "      <td>0.356198</td>\n",
              "      <td>0.525860</td>\n",
              "      <td>22.905161</td>\n",
              "      <td>0.469794</td>\n",
              "      <td>1.161075</td>\n",
              "      <td>0.616226</td>\n",
              "      <td>1.022606</td>\n",
              "      <td>0.612277</td>\n",
              "      <td>87.612784</td>\n",
              "    </tr>\n",
              "    <tr>\n",
              "      <th>min</th>\n",
              "      <td>29.000000</td>\n",
              "      <td>0.000000</td>\n",
              "      <td>0.000000</td>\n",
              "      <td>94.000000</td>\n",
              "      <td>126.000000</td>\n",
              "      <td>0.000000</td>\n",
              "      <td>0.000000</td>\n",
              "      <td>71.000000</td>\n",
              "      <td>0.000000</td>\n",
              "      <td>0.000000</td>\n",
              "      <td>0.000000</td>\n",
              "      <td>0.000000</td>\n",
              "      <td>0.000000</td>\n",
              "      <td>0.000000</td>\n",
              "    </tr>\n",
              "    <tr>\n",
              "      <th>25%</th>\n",
              "      <td>47.500000</td>\n",
              "      <td>0.000000</td>\n",
              "      <td>0.000000</td>\n",
              "      <td>120.000000</td>\n",
              "      <td>211.000000</td>\n",
              "      <td>0.000000</td>\n",
              "      <td>0.000000</td>\n",
              "      <td>133.500000</td>\n",
              "      <td>0.000000</td>\n",
              "      <td>0.000000</td>\n",
              "      <td>1.000000</td>\n",
              "      <td>0.000000</td>\n",
              "      <td>2.000000</td>\n",
              "      <td>75.500000</td>\n",
              "    </tr>\n",
              "    <tr>\n",
              "      <th>50%</th>\n",
              "      <td>55.000000</td>\n",
              "      <td>1.000000</td>\n",
              "      <td>1.000000</td>\n",
              "      <td>130.000000</td>\n",
              "      <td>240.000000</td>\n",
              "      <td>0.000000</td>\n",
              "      <td>1.000000</td>\n",
              "      <td>153.000000</td>\n",
              "      <td>0.000000</td>\n",
              "      <td>0.800000</td>\n",
              "      <td>1.000000</td>\n",
              "      <td>0.000000</td>\n",
              "      <td>2.000000</td>\n",
              "      <td>151.000000</td>\n",
              "    </tr>\n",
              "    <tr>\n",
              "      <th>75%</th>\n",
              "      <td>61.000000</td>\n",
              "      <td>1.000000</td>\n",
              "      <td>2.000000</td>\n",
              "      <td>140.000000</td>\n",
              "      <td>274.500000</td>\n",
              "      <td>0.000000</td>\n",
              "      <td>1.000000</td>\n",
              "      <td>166.000000</td>\n",
              "      <td>1.000000</td>\n",
              "      <td>1.600000</td>\n",
              "      <td>2.000000</td>\n",
              "      <td>1.000000</td>\n",
              "      <td>3.000000</td>\n",
              "      <td>226.500000</td>\n",
              "    </tr>\n",
              "    <tr>\n",
              "      <th>max</th>\n",
              "      <td>77.000000</td>\n",
              "      <td>1.000000</td>\n",
              "      <td>3.000000</td>\n",
              "      <td>200.000000</td>\n",
              "      <td>564.000000</td>\n",
              "      <td>1.000000</td>\n",
              "      <td>2.000000</td>\n",
              "      <td>202.000000</td>\n",
              "      <td>1.000000</td>\n",
              "      <td>6.200000</td>\n",
              "      <td>2.000000</td>\n",
              "      <td>4.000000</td>\n",
              "      <td>3.000000</td>\n",
              "      <td>302.000000</td>\n",
              "    </tr>\n",
              "  </tbody>\n",
              "</table>\n",
              "</div>"
            ],
            "text/plain": [
              "              age         sex          cp  ...          ca        thal          id\n",
              "count  303.000000  303.000000  303.000000  ...  303.000000  303.000000  303.000000\n",
              "mean    54.366337    0.683168    0.966997  ...    0.729373    2.313531  151.000000\n",
              "std      9.082101    0.466011    1.032052  ...    1.022606    0.612277   87.612784\n",
              "min     29.000000    0.000000    0.000000  ...    0.000000    0.000000    0.000000\n",
              "25%     47.500000    0.000000    0.000000  ...    0.000000    2.000000   75.500000\n",
              "50%     55.000000    1.000000    1.000000  ...    0.000000    2.000000  151.000000\n",
              "75%     61.000000    1.000000    2.000000  ...    1.000000    3.000000  226.500000\n",
              "max     77.000000    1.000000    3.000000  ...    4.000000    3.000000  302.000000\n",
              "\n",
              "[8 rows x 14 columns]"
            ]
          },
          "metadata": {
            "tags": []
          },
          "execution_count": 13
        }
      ]
    },
    {
      "cell_type": "markdown",
      "metadata": {
        "id": "lAqkbvwr8MwK"
      },
      "source": [
        "##Age"
      ]
    },
    {
      "cell_type": "code",
      "metadata": {
        "colab": {
          "base_uri": "https://localhost:8080/",
          "height": 297
        },
        "id": "DbgVXH8c8m4I",
        "outputId": "cef2e86c-fba4-4dea-8c68-0f7919ef34fe"
      },
      "source": [
        "#Identify outliers\n",
        "sns.boxplot(x=\"age\",data=df)"
      ],
      "execution_count": 14,
      "outputs": [
        {
          "output_type": "execute_result",
          "data": {
            "text/plain": [
              "<matplotlib.axes._subplots.AxesSubplot at 0x7f17ef54d690>"
            ]
          },
          "metadata": {
            "tags": []
          },
          "execution_count": 14
        },
        {
          "output_type": "display_data",
          "data": {
            "image/png": "[encoded data removed]",
            "text/plain": [
              "<Figure size 432x288 with 1 Axes>"
            ]
          },
          "metadata": {
            "tags": [],
            "needs_background": "light"
          }
        }
      ]
    },
    {
      "cell_type": "code",
      "metadata": {
        "colab": {
          "base_uri": "https://localhost:8080/",
          "height": 428
        },
        "id": "FGqdsdo597qB",
        "outputId": "7707a81c-d296-4224-9e53-97687fdd5b9e"
      },
      "source": [
        "#Destribution of age\n",
        "fig, ax = plt.subplots(figsize=(10,6))\n",
        "ax.hist(df[\"age\"])"
      ],
      "execution_count": 15,
      "outputs": [
        {
          "output_type": "execute_result",
          "data": {
            "text/plain": [
              "(array([ 1., 11., 33., 38., 37., 60., 63., 43., 14.,  3.]),\n",
              " array([29. , 33.8, 38.6, 43.4, 48.2, 53. , 57.8, 62.6, 67.4, 72.2, 77. ]),\n",
              " <a list of 10 Patch objects>)"
            ]
          },
          "metadata": {
            "tags": []
          },
          "execution_count": 15
        },
        {
          "output_type": "display_data",
          "data": {
            "image/png": "[encoded data removed]",
            "text/plain": [
              "<Figure size 720x432 with 1 Axes>"
            ]
          },
          "metadata": {
            "tags": [],
            "needs_background": "light"
          }
        }
      ]
    },
    {
      "cell_type": "markdown",
      "metadata": {
        "id": "XMG_lOPRAe1b"
      },
      "source": [
        "###Evaluation\n",
        "\n",
        "The age seems distributed, and acording to the boxplot, it doesn't contain any outliers."
      ]
    },
    {
      "cell_type": "markdown",
      "metadata": {
        "id": "ZZlvn7DO_JjK"
      },
      "source": [
        "##Sex"
      ]
    },
    {
      "cell_type": "code",
      "metadata": {
        "colab": {
          "base_uri": "https://localhost:8080/",
          "height": 262
        },
        "id": "T3QsdT1M_pAp",
        "outputId": "5b60747f-74ab-4283-ea46-cb506d953c6f"
      },
      "source": [
        "#Destribution of sex\n",
        "df[\"sex\"].value_counts().plot(kind=\"bar\", color=[\"salmon\", \"lightblue\"]);"
      ],
      "execution_count": 16,
      "outputs": [
        {
          "output_type": "display_data",
          "data": {
            "image/png": "[encoded data removed]",
            "text/plain": [
              "<Figure size 432x288 with 1 Axes>"
            ]
          },
          "metadata": {
            "tags": [],
            "needs_background": "light"
          }
        }
      ]
    },
    {
      "cell_type": "code",
      "metadata": {
        "colab": {
          "base_uri": "https://localhost:8080/"
        },
        "id": "CFs4pA26_x1y",
        "outputId": "ed0a0936-5bc1-4dff-aa74-0c9ad68fa514"
      },
      "source": [
        "df[\"sex\"].value_counts()"
      ],
      "execution_count": 17,
      "outputs": [
        {
          "output_type": "execute_result",
          "data": {
            "text/plain": [
              "1    207\n",
              "0     96\n",
              "Name: sex, dtype: int64"
            ]
          },
          "metadata": {
            "tags": []
          },
          "execution_count": 17
        }
      ]
    },
    {
      "cell_type": "markdown",
      "metadata": {
        "id": "-s0J0ePaAbSM"
      },
      "source": [
        "###Evaluation\n",
        "\n",
        "Twice as many female as there are males. If we had the target column, it would be interesting to see how these numbers where distributed on the target values."
      ]
    },
    {
      "cell_type": "markdown",
      "metadata": {
        "id": "0Tm9R-bwA0cD"
      },
      "source": [
        "##Chest pain"
      ]
    },
    {
      "cell_type": "code",
      "metadata": {
        "colab": {
          "base_uri": "https://localhost:8080/",
          "height": 262
        },
        "id": "XW7PJnaPA4B3",
        "outputId": "e4a0c064-a1a4-42a4-a719-222b183a6f5e"
      },
      "source": [
        "#Destribution of cp\n",
        "df[\"cp\"].value_counts().plot(kind=\"bar\", color=[\"salmon\", \"lightblue\",\"lightseagreen\",\"mediumorchid\"]);"
      ],
      "execution_count": 18,
      "outputs": [
        {
          "output_type": "display_data",
          "data": {
            "image/png": "[encoded data removed]",
            "text/plain": [
              "<Figure size 432x288 with 1 Axes>"
            ]
          },
          "metadata": {
            "tags": [],
            "needs_background": "light"
          }
        }
      ]
    },
    {
      "cell_type": "markdown",
      "metadata": {
        "id": "OpJMZmIcA5_c"
      },
      "source": [
        "###Evaluation\n",
        "\n",
        "Fewer occasion where the sample had heavier chestpain."
      ]
    },
    {
      "cell_type": "markdown",
      "metadata": {
        "id": "jJgHRgUQBpPn"
      },
      "source": [
        "##Resting blood pressuret"
      ]
    },
    {
      "cell_type": "code",
      "metadata": {
        "colab": {
          "base_uri": "https://localhost:8080/",
          "height": 297
        },
        "id": "E5TjEjlZB3YC",
        "outputId": "07311a6b-0b28-4f06-903d-b7f4b3a3cfdb"
      },
      "source": [
        "#Identify outliers\n",
        "sns.boxplot(x=\"trestbps\",data=df)"
      ],
      "execution_count": 19,
      "outputs": [
        {
          "output_type": "execute_result",
          "data": {
            "text/plain": [
              "<matplotlib.axes._subplots.AxesSubplot at 0x7f17ef516850>"
            ]
          },
          "metadata": {
            "tags": []
          },
          "execution_count": 19
        },
        {
          "output_type": "display_data",
          "data": {
            "image/png": "[encoded data removed]",
            "text/plain": [
              "<Figure size 432x288 with 1 Axes>"
            ]
          },
          "metadata": {
            "tags": [],
            "needs_background": "light"
          }
        }
      ]
    },
    {
      "cell_type": "code",
      "metadata": {
        "colab": {
          "base_uri": "https://localhost:8080/"
        },
        "id": "Bgj8dlA4CfOf",
        "outputId": "66ad9281-6964-4ec4-9556-a93fe71738c9"
      },
      "source": [
        "#All above this quantile is considered an outlier.\n",
        "#the values of samples higher than this, will be sat to the value of the .75 quantile\n",
        "df[\"trestbps\"].quantile(0.97)"
      ],
      "execution_count": 20,
      "outputs": [
        {
          "output_type": "execute_result",
          "data": {
            "text/plain": [
              "170.0"
            ]
          },
          "metadata": {
            "tags": []
          },
          "execution_count": 20
        }
      ]
    },
    {
      "cell_type": "code",
      "metadata": {
        "colab": {
          "base_uri": "https://localhost:8080/"
        },
        "id": "61NdBkp_Cg4w",
        "outputId": "4fe08756-2401-46c2-e29a-d2e9c74a2aee"
      },
      "source": [
        "df[\"trestbps\"].describe()"
      ],
      "execution_count": 21,
      "outputs": [
        {
          "output_type": "execute_result",
          "data": {
            "text/plain": [
              "count    303.000000\n",
              "mean     131.623762\n",
              "std       17.538143\n",
              "min       94.000000\n",
              "25%      120.000000\n",
              "50%      130.000000\n",
              "75%      140.000000\n",
              "max      200.000000\n",
              "Name: trestbps, dtype: float64"
            ]
          },
          "metadata": {
            "tags": []
          },
          "execution_count": 21
        }
      ]
    },
    {
      "cell_type": "code",
      "metadata": {
        "id": "ACur_ZCYDfEc"
      },
      "source": [
        "df[\"trestbps\"] = np.where(df[\"trestbps\"] > 170, 140, df[\"trestbps\"])"
      ],
      "execution_count": 22,
      "outputs": []
    },
    {
      "cell_type": "code",
      "metadata": {
        "colab": {
          "base_uri": "https://localhost:8080/"
        },
        "id": "VIhVAktmD2c_",
        "outputId": "61445c16-d149-4a36-e9a9-d6300ec15ccc"
      },
      "source": [
        "#max value is now 170\n",
        "df[\"trestbps\"].describe()"
      ],
      "execution_count": 23,
      "outputs": [
        {
          "output_type": "execute_result",
          "data": {
            "text/plain": [
              "count    303.000000\n",
              "mean     130.389439\n",
              "std       15.223723\n",
              "min       94.000000\n",
              "25%      120.000000\n",
              "50%      130.000000\n",
              "75%      140.000000\n",
              "max      170.000000\n",
              "Name: trestbps, dtype: float64"
            ]
          },
          "metadata": {
            "tags": []
          },
          "execution_count": 23
        }
      ]
    },
    {
      "cell_type": "code",
      "metadata": {
        "colab": {
          "base_uri": "https://localhost:8080/",
          "height": 297
        },
        "id": "vrHkSyMaD9AS",
        "outputId": "14936409-33c4-40c9-8d35-a4794964ec7a"
      },
      "source": [
        "#boxplot contains no outliers\n",
        "sns.boxplot(x=\"trestbps\",data=df)"
      ],
      "execution_count": 24,
      "outputs": [
        {
          "output_type": "execute_result",
          "data": {
            "text/plain": [
              "<matplotlib.axes._subplots.AxesSubplot at 0x7f17eee43410>"
            ]
          },
          "metadata": {
            "tags": []
          },
          "execution_count": 24
        },
        {
          "output_type": "display_data",
          "data": {
            "image/png": "[encoded data removed]",
            "text/plain": [
              "<Figure size 432x288 with 1 Axes>"
            ]
          },
          "metadata": {
            "tags": [],
            "needs_background": "light"
          }
        }
      ]
    },
    {
      "cell_type": "code",
      "metadata": {
        "colab": {
          "base_uri": "https://localhost:8080/",
          "height": 283
        },
        "id": "uKSSJweWD_3J",
        "outputId": "607ff910-077e-46e3-9c75-bef23de8a479"
      },
      "source": [
        "#Distribution of resting blood preasure\n",
        "df[\"trestbps\"].plot(kind=\"hist\")"
      ],
      "execution_count": 25,
      "outputs": [
        {
          "output_type": "execute_result",
          "data": {
            "text/plain": [
              "<matplotlib.axes._subplots.AxesSubplot at 0x7f17eedd7490>"
            ]
          },
          "metadata": {
            "tags": []
          },
          "execution_count": 25
        },
        {
          "output_type": "display_data",
          "data": {
            "image/png": "[encoded data removed]",
            "text/plain": [
              "<Figure size 432x288 with 1 Axes>"
            ]
          },
          "metadata": {
            "tags": [],
            "needs_background": "light"
          }
        }
      ]
    },
    {
      "cell_type": "markdown",
      "metadata": {
        "id": "VWcutAO_EXJd"
      },
      "source": [
        "###Evauluation\n",
        "\n",
        "Outliers have had their values changed to the value of the 0.75 percentile."
      ]
    },
    {
      "cell_type": "markdown",
      "metadata": {
        "id": "0n-ScAAdFwtG"
      },
      "source": [
        "##Fasting blood sugar"
      ]
    },
    {
      "cell_type": "code",
      "metadata": {
        "colab": {
          "base_uri": "https://localhost:8080/",
          "height": 194
        },
        "id": "KrnTMx5WF6YY",
        "outputId": "2e88529a-6624-4491-a40e-a169425d83cf"
      },
      "source": [
        "df.head()"
      ],
      "execution_count": 26,
      "outputs": [
        {
          "output_type": "execute_result",
          "data": {
            "text/html": [
              "<div>\n",
              "<style scoped>\n",
              "    .dataframe tbody tr th:only-of-type {\n",
              "        vertical-align: middle;\n",
              "    }\n",
              "\n",
              "    .dataframe tbody tr th {\n",
              "        vertical-align: top;\n",
              "    }\n",
              "\n",
              "    .dataframe thead th {\n",
              "        text-align: right;\n",
              "    }\n",
              "</style>\n",
              "<table border=\"1\" class=\"dataframe\">\n",
              "  <thead>\n",
              "    <tr style=\"text-align: right;\">\n",
              "      <th></th>\n",
              "      <th>age</th>\n",
              "      <th>sex</th>\n",
              "      <th>cp</th>\n",
              "      <th>trestbps</th>\n",
              "      <th>chol</th>\n",
              "      <th>fbs</th>\n",
              "      <th>restecg</th>\n",
              "      <th>thalach</th>\n",
              "      <th>exang</th>\n",
              "      <th>oldpeak</th>\n",
              "      <th>slope</th>\n",
              "      <th>ca</th>\n",
              "      <th>thal</th>\n",
              "      <th>id</th>\n",
              "    </tr>\n",
              "  </thead>\n",
              "  <tbody>\n",
              "    <tr>\n",
              "      <th>171</th>\n",
              "      <td>48</td>\n",
              "      <td>1</td>\n",
              "      <td>1</td>\n",
              "      <td>110</td>\n",
              "      <td>229</td>\n",
              "      <td>0</td>\n",
              "      <td>1</td>\n",
              "      <td>168</td>\n",
              "      <td>0</td>\n",
              "      <td>1.0</td>\n",
              "      <td>0</td>\n",
              "      <td>0</td>\n",
              "      <td>3</td>\n",
              "      <td>171</td>\n",
              "    </tr>\n",
              "    <tr>\n",
              "      <th>288</th>\n",
              "      <td>57</td>\n",
              "      <td>1</td>\n",
              "      <td>0</td>\n",
              "      <td>110</td>\n",
              "      <td>335</td>\n",
              "      <td>0</td>\n",
              "      <td>1</td>\n",
              "      <td>143</td>\n",
              "      <td>1</td>\n",
              "      <td>3.0</td>\n",
              "      <td>1</td>\n",
              "      <td>1</td>\n",
              "      <td>3</td>\n",
              "      <td>288</td>\n",
              "    </tr>\n",
              "    <tr>\n",
              "      <th>163</th>\n",
              "      <td>38</td>\n",
              "      <td>1</td>\n",
              "      <td>2</td>\n",
              "      <td>138</td>\n",
              "      <td>175</td>\n",
              "      <td>0</td>\n",
              "      <td>1</td>\n",
              "      <td>173</td>\n",
              "      <td>0</td>\n",
              "      <td>0.0</td>\n",
              "      <td>2</td>\n",
              "      <td>4</td>\n",
              "      <td>2</td>\n",
              "      <td>163</td>\n",
              "    </tr>\n",
              "    <tr>\n",
              "      <th>212</th>\n",
              "      <td>39</td>\n",
              "      <td>1</td>\n",
              "      <td>0</td>\n",
              "      <td>118</td>\n",
              "      <td>219</td>\n",
              "      <td>0</td>\n",
              "      <td>1</td>\n",
              "      <td>140</td>\n",
              "      <td>0</td>\n",
              "      <td>1.2</td>\n",
              "      <td>1</td>\n",
              "      <td>0</td>\n",
              "      <td>3</td>\n",
              "      <td>212</td>\n",
              "    </tr>\n",
              "    <tr>\n",
              "      <th>250</th>\n",
              "      <td>51</td>\n",
              "      <td>1</td>\n",
              "      <td>0</td>\n",
              "      <td>140</td>\n",
              "      <td>298</td>\n",
              "      <td>0</td>\n",
              "      <td>1</td>\n",
              "      <td>122</td>\n",
              "      <td>1</td>\n",
              "      <td>4.2</td>\n",
              "      <td>1</td>\n",
              "      <td>3</td>\n",
              "      <td>3</td>\n",
              "      <td>250</td>\n",
              "    </tr>\n",
              "  </tbody>\n",
              "</table>\n",
              "</div>"
            ],
            "text/plain": [
              "     age  sex  cp  trestbps  chol  fbs  ...  exang  oldpeak  slope  ca  thal   id\n",
              "171   48    1   1       110   229    0  ...      0      1.0      0   0     3  171\n",
              "288   57    1   0       110   335    0  ...      1      3.0      1   1     3  288\n",
              "163   38    1   2       138   175    0  ...      0      0.0      2   4     2  163\n",
              "212   39    1   0       118   219    0  ...      0      1.2      1   0     3  212\n",
              "250   51    1   0       140   298    0  ...      1      4.2      1   3     3  250\n",
              "\n",
              "[5 rows x 14 columns]"
            ]
          },
          "metadata": {
            "tags": []
          },
          "execution_count": 26
        }
      ]
    },
    {
      "cell_type": "code",
      "metadata": {
        "colab": {
          "base_uri": "https://localhost:8080/",
          "height": 262
        },
        "id": "uHYhGNQzF6-i",
        "outputId": "5f3978de-4953-4772-b68d-895f2d178b9a"
      },
      "source": [
        "#Destribution of cp\n",
        "df[\"fbs\"].value_counts().plot(kind=\"bar\", color=[\"salmon\", \"lightblue\"]);"
      ],
      "execution_count": 27,
      "outputs": [
        {
          "output_type": "display_data",
          "data": {
            "image/png": "[encoded data removed]",
            "text/plain": [
              "<Figure size 432x288 with 1 Axes>"
            ]
          },
          "metadata": {
            "tags": [],
            "needs_background": "light"
          }
        }
      ]
    },
    {
      "cell_type": "markdown",
      "metadata": {
        "id": "x0DLzT4KGR2T"
      },
      "source": [
        "##restecg"
      ]
    },
    {
      "cell_type": "code",
      "metadata": {
        "colab": {
          "base_uri": "https://localhost:8080/",
          "height": 262
        },
        "id": "-2_bqbozu2Zy",
        "outputId": "f10adf99-5039-4697-bf8c-3b185140f28a"
      },
      "source": [
        "df[\"restecg\"].value_counts().plot(kind=\"bar\", color=[\"salmon\", \"lightblue\", \"lightseagreen\"]);"
      ],
      "execution_count": 28,
      "outputs": [
        {
          "output_type": "display_data",
          "data": {
            "image/png": "[encoded data removed]",
            "text/plain": [
              "<Figure size 432x288 with 1 Axes>"
            ]
          },
          "metadata": {
            "tags": [],
            "needs_background": "light"
          }
        }
      ]
    },
    {
      "cell_type": "code",
      "metadata": {
        "colab": {
          "base_uri": "https://localhost:8080/"
        },
        "id": "Y6HZuWd4u5pQ",
        "outputId": "cf2460f7-2b3d-4359-f7d6-32d37a0c18fd"
      },
      "source": [
        "df[\"restecg\"].value_counts()"
      ],
      "execution_count": 29,
      "outputs": [
        {
          "output_type": "execute_result",
          "data": {
            "text/plain": [
              "1    152\n",
              "0    147\n",
              "2      4\n",
              "Name: restecg, dtype: int64"
            ]
          },
          "metadata": {
            "tags": []
          },
          "execution_count": 29
        }
      ]
    },
    {
      "cell_type": "markdown",
      "metadata": {
        "id": "G7PJgaPbvIJq"
      },
      "source": [
        "##thalach"
      ]
    },
    {
      "cell_type": "code",
      "metadata": {
        "colab": {
          "base_uri": "https://localhost:8080/",
          "height": 297
        },
        "id": "Hc7yhIb1wVBz",
        "outputId": "e59b55ae-9a4b-4695-f297-6c90354d85e7"
      },
      "source": [
        "#boxplot contains no outliers\n",
        "sns.boxplot(x=\"thalach\",data=df)"
      ],
      "execution_count": 30,
      "outputs": [
        {
          "output_type": "execute_result",
          "data": {
            "text/plain": [
              "<matplotlib.axes._subplots.AxesSubplot at 0x7f17eda70dd0>"
            ]
          },
          "metadata": {
            "tags": []
          },
          "execution_count": 30
        },
        {
          "output_type": "display_data",
          "data": {
            "image/png": "[encoded data removed]",
            "text/plain": [
              "<Figure size 432x288 with 1 Axes>"
            ]
          },
          "metadata": {
            "tags": [],
            "needs_background": "light"
          }
        }
      ]
    },
    {
      "cell_type": "code",
      "metadata": {
        "colab": {
          "base_uri": "https://localhost:8080/"
        },
        "id": "hUQcDu4uwSo8",
        "outputId": "48057913-0b20-46d7-9c4a-854a57208468"
      },
      "source": [
        "#All above this quantile is considered an outlier.\n",
        "#the values of samples higher than this, will be sat to the value of the .75 quantile\n",
        "df[\"thalach\"].quantile(0.01)"
      ],
      "execution_count": 31,
      "outputs": [
        {
          "output_type": "execute_result",
          "data": {
            "text/plain": [
              "95.02"
            ]
          },
          "metadata": {
            "tags": []
          },
          "execution_count": 31
        }
      ]
    },
    {
      "cell_type": "code",
      "metadata": {
        "colab": {
          "base_uri": "https://localhost:8080/"
        },
        "id": "JfTsdh2xwSo8",
        "outputId": "bdfa8fe8-31aa-4e62-e418-8944ffd687fd"
      },
      "source": [
        "df[\"thalach\"].describe()"
      ],
      "execution_count": 32,
      "outputs": [
        {
          "output_type": "execute_result",
          "data": {
            "text/plain": [
              "count    303.000000\n",
              "mean     149.646865\n",
              "std       22.905161\n",
              "min       71.000000\n",
              "25%      133.500000\n",
              "50%      153.000000\n",
              "75%      166.000000\n",
              "max      202.000000\n",
              "Name: thalach, dtype: float64"
            ]
          },
          "metadata": {
            "tags": []
          },
          "execution_count": 32
        }
      ]
    },
    {
      "cell_type": "code",
      "metadata": {
        "id": "o3G310LowSo9"
      },
      "source": [
        "df[\"thalach\"] = np.where(df[\"thalach\"] < 95, 133, df[\"thalach\"])"
      ],
      "execution_count": 33,
      "outputs": []
    },
    {
      "cell_type": "code",
      "metadata": {
        "colab": {
          "base_uri": "https://localhost:8080/"
        },
        "id": "XP5nKE_6wSo9",
        "outputId": "3a36c26b-8cca-494a-a455-c724f842350d"
      },
      "source": [
        "#max value is now 170\n",
        "df[\"thalach\"].describe()"
      ],
      "execution_count": 34,
      "outputs": [
        {
          "output_type": "execute_result",
          "data": {
            "text/plain": [
              "count    303.000000\n",
              "mean     150.141914\n",
              "std       21.961503\n",
              "min       95.000000\n",
              "25%      133.500000\n",
              "50%      153.000000\n",
              "75%      166.000000\n",
              "max      202.000000\n",
              "Name: thalach, dtype: float64"
            ]
          },
          "metadata": {
            "tags": []
          },
          "execution_count": 34
        }
      ]
    },
    {
      "cell_type": "code",
      "metadata": {
        "colab": {
          "base_uri": "https://localhost:8080/",
          "height": 297
        },
        "id": "WgP1PWkRwSo-",
        "outputId": "1a8f06cc-091c-46ea-f6df-1e016076274f"
      },
      "source": [
        "#boxplot contains no outliers\n",
        "sns.boxplot(x=\"thalach\",data=df)"
      ],
      "execution_count": 35,
      "outputs": [
        {
          "output_type": "execute_result",
          "data": {
            "text/plain": [
              "<matplotlib.axes._subplots.AxesSubplot at 0x7f17ed97cf10>"
            ]
          },
          "metadata": {
            "tags": []
          },
          "execution_count": 35
        },
        {
          "output_type": "display_data",
          "data": {
            "image/png": "[encoded data removed]",
            "text/plain": [
              "<Figure size 432x288 with 1 Axes>"
            ]
          },
          "metadata": {
            "tags": [],
            "needs_background": "light"
          }
        }
      ]
    },
    {
      "cell_type": "code",
      "metadata": {
        "colab": {
          "base_uri": "https://localhost:8080/",
          "height": 265
        },
        "id": "C70OPhuyw-iA",
        "outputId": "27f33f13-fdf0-4942-8639-77882f87b8e4"
      },
      "source": [
        "df[\"thalach\"].plot(kind=\"hist\");"
      ],
      "execution_count": 36,
      "outputs": [
        {
          "output_type": "display_data",
          "data": {
            "image/png": "[encoded data removed]",
            "text/plain": [
              "<Figure size 432x288 with 1 Axes>"
            ]
          },
          "metadata": {
            "tags": [],
            "needs_background": "light"
          }
        }
      ]
    },
    {
      "cell_type": "markdown",
      "metadata": {
        "id": "8wzmw1dWxFMX"
      },
      "source": [
        "###Evaluation\n",
        "\n",
        "Outliers in the min-range has been changed to the value of the 0.25 percentile.\n",
        "\n",
        "Most values now have a range between 140-180."
      ]
    },
    {
      "cell_type": "markdown",
      "metadata": {
        "id": "2mLeSxdlx8q1"
      },
      "source": [
        "##exang"
      ]
    },
    {
      "cell_type": "code",
      "metadata": {
        "colab": {
          "base_uri": "https://localhost:8080/",
          "height": 262
        },
        "id": "K7mjzJ53yGTo",
        "outputId": "6d8b03df-0551-4d9a-d956-1889c61f725d"
      },
      "source": [
        "df[\"exang\"].value_counts().plot(kind=\"bar\", color=[\"salmon\", \"lightblue\"]);"
      ],
      "execution_count": 37,
      "outputs": [
        {
          "output_type": "display_data",
          "data": {
            "image/png": "[encoded data removed]",
            "text/plain": [
              "<Figure size 432x288 with 1 Axes>"
            ]
          },
          "metadata": {
            "tags": [],
            "needs_background": "light"
          }
        }
      ]
    },
    {
      "cell_type": "markdown",
      "metadata": {
        "id": "UnfIlo9_yIqI"
      },
      "source": [
        "##oldpeak"
      ]
    },
    {
      "cell_type": "code",
      "metadata": {
        "colab": {
          "base_uri": "https://localhost:8080/",
          "height": 194
        },
        "id": "3DzKjVutySjP",
        "outputId": "ff2fb0e4-5f82-40c8-998c-1ff9785f0e3b"
      },
      "source": [
        "df.head()"
      ],
      "execution_count": 38,
      "outputs": [
        {
          "output_type": "execute_result",
          "data": {
            "text/html": [
              "<div>\n",
              "<style scoped>\n",
              "    .dataframe tbody tr th:only-of-type {\n",
              "        vertical-align: middle;\n",
              "    }\n",
              "\n",
              "    .dataframe tbody tr th {\n",
              "        vertical-align: top;\n",
              "    }\n",
              "\n",
              "    .dataframe thead th {\n",
              "        text-align: right;\n",
              "    }\n",
              "</style>\n",
              "<table border=\"1\" class=\"dataframe\">\n",
              "  <thead>\n",
              "    <tr style=\"text-align: right;\">\n",
              "      <th></th>\n",
              "      <th>age</th>\n",
              "      <th>sex</th>\n",
              "      <th>cp</th>\n",
              "      <th>trestbps</th>\n",
              "      <th>chol</th>\n",
              "      <th>fbs</th>\n",
              "      <th>restecg</th>\n",
              "      <th>thalach</th>\n",
              "      <th>exang</th>\n",
              "      <th>oldpeak</th>\n",
              "      <th>slope</th>\n",
              "      <th>ca</th>\n",
              "      <th>thal</th>\n",
              "      <th>id</th>\n",
              "    </tr>\n",
              "  </thead>\n",
              "  <tbody>\n",
              "    <tr>\n",
              "      <th>171</th>\n",
              "      <td>48</td>\n",
              "      <td>1</td>\n",
              "      <td>1</td>\n",
              "      <td>110</td>\n",
              "      <td>229</td>\n",
              "      <td>0</td>\n",
              "      <td>1</td>\n",
              "      <td>168</td>\n",
              "      <td>0</td>\n",
              "      <td>1.0</td>\n",
              "      <td>0</td>\n",
              "      <td>0</td>\n",
              "      <td>3</td>\n",
              "      <td>171</td>\n",
              "    </tr>\n",
              "    <tr>\n",
              "      <th>288</th>\n",
              "      <td>57</td>\n",
              "      <td>1</td>\n",
              "      <td>0</td>\n",
              "      <td>110</td>\n",
              "      <td>335</td>\n",
              "      <td>0</td>\n",
              "      <td>1</td>\n",
              "      <td>143</td>\n",
              "      <td>1</td>\n",
              "      <td>3.0</td>\n",
              "      <td>1</td>\n",
              "      <td>1</td>\n",
              "      <td>3</td>\n",
              "      <td>288</td>\n",
              "    </tr>\n",
              "    <tr>\n",
              "      <th>163</th>\n",
              "      <td>38</td>\n",
              "      <td>1</td>\n",
              "      <td>2</td>\n",
              "      <td>138</td>\n",
              "      <td>175</td>\n",
              "      <td>0</td>\n",
              "      <td>1</td>\n",
              "      <td>173</td>\n",
              "      <td>0</td>\n",
              "      <td>0.0</td>\n",
              "      <td>2</td>\n",
              "      <td>4</td>\n",
              "      <td>2</td>\n",
              "      <td>163</td>\n",
              "    </tr>\n",
              "    <tr>\n",
              "      <th>212</th>\n",
              "      <td>39</td>\n",
              "      <td>1</td>\n",
              "      <td>0</td>\n",
              "      <td>118</td>\n",
              "      <td>219</td>\n",
              "      <td>0</td>\n",
              "      <td>1</td>\n",
              "      <td>140</td>\n",
              "      <td>0</td>\n",
              "      <td>1.2</td>\n",
              "      <td>1</td>\n",
              "      <td>0</td>\n",
              "      <td>3</td>\n",
              "      <td>212</td>\n",
              "    </tr>\n",
              "    <tr>\n",
              "      <th>250</th>\n",
              "      <td>51</td>\n",
              "      <td>1</td>\n",
              "      <td>0</td>\n",
              "      <td>140</td>\n",
              "      <td>298</td>\n",
              "      <td>0</td>\n",
              "      <td>1</td>\n",
              "      <td>122</td>\n",
              "      <td>1</td>\n",
              "      <td>4.2</td>\n",
              "      <td>1</td>\n",
              "      <td>3</td>\n",
              "      <td>3</td>\n",
              "      <td>250</td>\n",
              "    </tr>\n",
              "  </tbody>\n",
              "</table>\n",
              "</div>"
            ],
            "text/plain": [
              "     age  sex  cp  trestbps  chol  fbs  ...  exang  oldpeak  slope  ca  thal   id\n",
              "171   48    1   1       110   229    0  ...      0      1.0      0   0     3  171\n",
              "288   57    1   0       110   335    0  ...      1      3.0      1   1     3  288\n",
              "163   38    1   2       138   175    0  ...      0      0.0      2   4     2  163\n",
              "212   39    1   0       118   219    0  ...      0      1.2      1   0     3  212\n",
              "250   51    1   0       140   298    0  ...      1      4.2      1   3     3  250\n",
              "\n",
              "[5 rows x 14 columns]"
            ]
          },
          "metadata": {
            "tags": []
          },
          "execution_count": 38
        }
      ]
    },
    {
      "cell_type": "code",
      "metadata": {
        "colab": {
          "base_uri": "https://localhost:8080/",
          "height": 352
        },
        "id": "pkFk6AkyyWI3",
        "outputId": "61d2d6b4-c0ca-450d-9567-f6d34c1646d2"
      },
      "source": [
        "sns.boxplot(\"oldpeak\",data=df)"
      ],
      "execution_count": 39,
      "outputs": [
        {
          "output_type": "stream",
          "text": [
            "/usr/local/lib/python3.7/dist-packages/seaborn/_decorators.py:43: FutureWarning: Pass the following variable as a keyword arg: x. From version 0.12, the only valid positional argument will be `data`, and passing other arguments without an explicit keyword will result in an error or misinterpretation.\n",
            "  FutureWarning\n"
          ],
          "name": "stderr"
        },
        {
          "output_type": "execute_result",
          "data": {
            "text/plain": [
              "<matplotlib.axes._subplots.AxesSubplot at 0x7f17efd7f1d0>"
            ]
          },
          "metadata": {
            "tags": []
          },
          "execution_count": 39
        },
        {
          "output_type": "display_data",
          "data": {
            "image/png": "[encoded data removed]",
            "text/plain": [
              "<Figure size 432x288 with 1 Axes>"
            ]
          },
          "metadata": {
            "tags": [],
            "needs_background": "light"
          }
        }
      ]
    },
    {
      "cell_type": "code",
      "metadata": {
        "colab": {
          "base_uri": "https://localhost:8080/"
        },
        "id": "l6QB4tUiyboP",
        "outputId": "ff64cf15-cee4-4807-aa6c-97d9d842642c"
      },
      "source": [
        "df[\"oldpeak\"].quantile(0.98)"
      ],
      "execution_count": 40,
      "outputs": [
        {
          "output_type": "execute_result",
          "data": {
            "text/plain": [
              "4.0"
            ]
          },
          "metadata": {
            "tags": []
          },
          "execution_count": 40
        }
      ]
    },
    {
      "cell_type": "code",
      "metadata": {
        "colab": {
          "base_uri": "https://localhost:8080/"
        },
        "id": "GVvRP6JkykPE",
        "outputId": "444d7a8c-fb47-48aa-b7c5-8001d98b485c"
      },
      "source": [
        "df[\"oldpeak\"].describe()"
      ],
      "execution_count": 41,
      "outputs": [
        {
          "output_type": "execute_result",
          "data": {
            "text/plain": [
              "count    303.000000\n",
              "mean       1.039604\n",
              "std        1.161075\n",
              "min        0.000000\n",
              "25%        0.000000\n",
              "50%        0.800000\n",
              "75%        1.600000\n",
              "max        6.200000\n",
              "Name: oldpeak, dtype: float64"
            ]
          },
          "metadata": {
            "tags": []
          },
          "execution_count": 41
        }
      ]
    },
    {
      "cell_type": "code",
      "metadata": {
        "id": "4nLdLEjuyrWv"
      },
      "source": [
        "df[\"oldpeak\"] = np.where(df[\"oldpeak\"] > 4, 1.6, df[\"oldpeak\"])"
      ],
      "execution_count": 42,
      "outputs": []
    },
    {
      "cell_type": "code",
      "metadata": {
        "colab": {
          "base_uri": "https://localhost:8080/"
        },
        "id": "bUtEacm_yzU4",
        "outputId": "68d54ef6-e72a-471c-b383-ee49f70f1e58"
      },
      "source": [
        "df[\"oldpeak\"].describe()"
      ],
      "execution_count": 43,
      "outputs": [
        {
          "output_type": "execute_result",
          "data": {
            "text/plain": [
              "count    303.000000\n",
              "mean       0.984818\n",
              "std        1.043888\n",
              "min        0.000000\n",
              "25%        0.000000\n",
              "50%        0.800000\n",
              "75%        1.600000\n",
              "max        4.000000\n",
              "Name: oldpeak, dtype: float64"
            ]
          },
          "metadata": {
            "tags": []
          },
          "execution_count": 43
        }
      ]
    },
    {
      "cell_type": "code",
      "metadata": {
        "colab": {
          "base_uri": "https://localhost:8080/",
          "height": 352
        },
        "id": "qH33vx85y1En",
        "outputId": "1f5f87f7-ea18-4f15-ef31-7e00ccac44de"
      },
      "source": [
        "sns.boxplot(\"oldpeak\",data=df)"
      ],
      "execution_count": 44,
      "outputs": [
        {
          "output_type": "stream",
          "text": [
            "/usr/local/lib/python3.7/dist-packages/seaborn/_decorators.py:43: FutureWarning: Pass the following variable as a keyword arg: x. From version 0.12, the only valid positional argument will be `data`, and passing other arguments without an explicit keyword will result in an error or misinterpretation.\n",
            "  FutureWarning\n"
          ],
          "name": "stderr"
        },
        {
          "output_type": "execute_result",
          "data": {
            "text/plain": [
              "<matplotlib.axes._subplots.AxesSubplot at 0x7f17ed7e3a50>"
            ]
          },
          "metadata": {
            "tags": []
          },
          "execution_count": 44
        },
        {
          "output_type": "display_data",
          "data": {
            "image/png": "[encoded data removed]",
            "text/plain": [
              "<Figure size 432x288 with 1 Axes>"
            ]
          },
          "metadata": {
            "tags": [],
            "needs_background": "light"
          }
        }
      ]
    },
    {
      "cell_type": "markdown",
      "metadata": {
        "id": "GK9wfC5dy8TX"
      },
      "source": [
        "##slope"
      ]
    },
    {
      "cell_type": "code",
      "metadata": {
        "colab": {
          "base_uri": "https://localhost:8080/",
          "height": 194
        },
        "id": "e08lP0bvzLse",
        "outputId": "b7d4205a-33ae-4e6f-e927-fa456b588078"
      },
      "source": [
        "df.head()"
      ],
      "execution_count": 45,
      "outputs": [
        {
          "output_type": "execute_result",
          "data": {
            "text/html": [
              "<div>\n",
              "<style scoped>\n",
              "    .dataframe tbody tr th:only-of-type {\n",
              "        vertical-align: middle;\n",
              "    }\n",
              "\n",
              "    .dataframe tbody tr th {\n",
              "        vertical-align: top;\n",
              "    }\n",
              "\n",
              "    .dataframe thead th {\n",
              "        text-align: right;\n",
              "    }\n",
              "</style>\n",
              "<table border=\"1\" class=\"dataframe\">\n",
              "  <thead>\n",
              "    <tr style=\"text-align: right;\">\n",
              "      <th></th>\n",
              "      <th>age</th>\n",
              "      <th>sex</th>\n",
              "      <th>cp</th>\n",
              "      <th>trestbps</th>\n",
              "      <th>chol</th>\n",
              "      <th>fbs</th>\n",
              "      <th>restecg</th>\n",
              "      <th>thalach</th>\n",
              "      <th>exang</th>\n",
              "      <th>oldpeak</th>\n",
              "      <th>slope</th>\n",
              "      <th>ca</th>\n",
              "      <th>thal</th>\n",
              "      <th>id</th>\n",
              "    </tr>\n",
              "  </thead>\n",
              "  <tbody>\n",
              "    <tr>\n",
              "      <th>171</th>\n",
              "      <td>48</td>\n",
              "      <td>1</td>\n",
              "      <td>1</td>\n",
              "      <td>110</td>\n",
              "      <td>229</td>\n",
              "      <td>0</td>\n",
              "      <td>1</td>\n",
              "      <td>168</td>\n",
              "      <td>0</td>\n",
              "      <td>1.0</td>\n",
              "      <td>0</td>\n",
              "      <td>0</td>\n",
              "      <td>3</td>\n",
              "      <td>171</td>\n",
              "    </tr>\n",
              "    <tr>\n",
              "      <th>288</th>\n",
              "      <td>57</td>\n",
              "      <td>1</td>\n",
              "      <td>0</td>\n",
              "      <td>110</td>\n",
              "      <td>335</td>\n",
              "      <td>0</td>\n",
              "      <td>1</td>\n",
              "      <td>143</td>\n",
              "      <td>1</td>\n",
              "      <td>3.0</td>\n",
              "      <td>1</td>\n",
              "      <td>1</td>\n",
              "      <td>3</td>\n",
              "      <td>288</td>\n",
              "    </tr>\n",
              "    <tr>\n",
              "      <th>163</th>\n",
              "      <td>38</td>\n",
              "      <td>1</td>\n",
              "      <td>2</td>\n",
              "      <td>138</td>\n",
              "      <td>175</td>\n",
              "      <td>0</td>\n",
              "      <td>1</td>\n",
              "      <td>173</td>\n",
              "      <td>0</td>\n",
              "      <td>0.0</td>\n",
              "      <td>2</td>\n",
              "      <td>4</td>\n",
              "      <td>2</td>\n",
              "      <td>163</td>\n",
              "    </tr>\n",
              "    <tr>\n",
              "      <th>212</th>\n",
              "      <td>39</td>\n",
              "      <td>1</td>\n",
              "      <td>0</td>\n",
              "      <td>118</td>\n",
              "      <td>219</td>\n",
              "      <td>0</td>\n",
              "      <td>1</td>\n",
              "      <td>140</td>\n",
              "      <td>0</td>\n",
              "      <td>1.2</td>\n",
              "      <td>1</td>\n",
              "      <td>0</td>\n",
              "      <td>3</td>\n",
              "      <td>212</td>\n",
              "    </tr>\n",
              "    <tr>\n",
              "      <th>250</th>\n",
              "      <td>51</td>\n",
              "      <td>1</td>\n",
              "      <td>0</td>\n",
              "      <td>140</td>\n",
              "      <td>298</td>\n",
              "      <td>0</td>\n",
              "      <td>1</td>\n",
              "      <td>122</td>\n",
              "      <td>1</td>\n",
              "      <td>1.6</td>\n",
              "      <td>1</td>\n",
              "      <td>3</td>\n",
              "      <td>3</td>\n",
              "      <td>250</td>\n",
              "    </tr>\n",
              "  </tbody>\n",
              "</table>\n",
              "</div>"
            ],
            "text/plain": [
              "     age  sex  cp  trestbps  chol  fbs  ...  exang  oldpeak  slope  ca  thal   id\n",
              "171   48    1   1       110   229    0  ...      0      1.0      0   0     3  171\n",
              "288   57    1   0       110   335    0  ...      1      3.0      1   1     3  288\n",
              "163   38    1   2       138   175    0  ...      0      0.0      2   4     2  163\n",
              "212   39    1   0       118   219    0  ...      0      1.2      1   0     3  212\n",
              "250   51    1   0       140   298    0  ...      1      1.6      1   3     3  250\n",
              "\n",
              "[5 rows x 14 columns]"
            ]
          },
          "metadata": {
            "tags": []
          },
          "execution_count": 45
        }
      ]
    },
    {
      "cell_type": "code",
      "metadata": {
        "colab": {
          "base_uri": "https://localhost:8080/",
          "height": 262
        },
        "id": "jdujyNoVzMID",
        "outputId": "49cd15b2-273b-4544-d413-44c3444b9ac6"
      },
      "source": [
        "df[\"slope\"].value_counts().plot(kind=\"bar\", color=[\"salmon\", \"lightblue\", \"lightseagreen\"]);"
      ],
      "execution_count": 46,
      "outputs": [
        {
          "output_type": "display_data",
          "data": {
            "image/png": "[encoded data removed]",
            "text/plain": [
              "<Figure size 432x288 with 1 Axes>"
            ]
          },
          "metadata": {
            "tags": [],
            "needs_background": "light"
          }
        }
      ]
    },
    {
      "cell_type": "markdown",
      "metadata": {
        "id": "eO_YXVBXzV0a"
      },
      "source": [
        "##ca"
      ]
    },
    {
      "cell_type": "code",
      "metadata": {
        "colab": {
          "base_uri": "https://localhost:8080/",
          "height": 262
        },
        "id": "xLX4aoOczpw7",
        "outputId": "f2337bfc-f09e-44b3-eb57-db02725a6cd6"
      },
      "source": [
        "df[\"ca\"].value_counts().plot(kind=\"bar\", color=[\"salmon\", \"lightblue\",\"lightseagreen\",\"mediumorchid\", \"lightpink\"]);"
      ],
      "execution_count": 47,
      "outputs": [
        {
          "output_type": "display_data",
          "data": {
            "image/png": "[encoded data removed]",
            "text/plain": [
              "<Figure size 432x288 with 1 Axes>"
            ]
          },
          "metadata": {
            "tags": [],
            "needs_background": "light"
          }
        }
      ]
    },
    {
      "cell_type": "markdown",
      "metadata": {
        "id": "vqaoSdU2zrBB"
      },
      "source": [
        "##thal"
      ]
    },
    {
      "cell_type": "code",
      "metadata": {
        "colab": {
          "base_uri": "https://localhost:8080/",
          "height": 262
        },
        "id": "bzSxckUNz6ng",
        "outputId": "a60dd47c-792e-49e4-844e-ca5211ae38de"
      },
      "source": [
        "df[\"thal\"].value_counts().plot(kind=\"bar\", color=[\"salmon\", \"lightblue\", \"lightseagreen\", \"mediumorchid\"]);"
      ],
      "execution_count": 48,
      "outputs": [
        {
          "output_type": "display_data",
          "data": {
            "image/png": "[encoded data removed]",
            "text/plain": [
              "<Figure size 432x288 with 1 Axes>"
            ]
          },
          "metadata": {
            "tags": [],
            "needs_background": "light"
          }
        }
      ]
    },
    {
      "cell_type": "code",
      "metadata": {
        "colab": {
          "base_uri": "https://localhost:8080/",
          "height": 352
        },
        "id": "50qjD9K0z9ib",
        "outputId": "031d45e5-1691-41ea-e18d-ff05c673558e"
      },
      "source": [
        "sns.boxplot(\"thal\",data=df)"
      ],
      "execution_count": 49,
      "outputs": [
        {
          "output_type": "stream",
          "text": [
            "/usr/local/lib/python3.7/dist-packages/seaborn/_decorators.py:43: FutureWarning: Pass the following variable as a keyword arg: x. From version 0.12, the only valid positional argument will be `data`, and passing other arguments without an explicit keyword will result in an error or misinterpretation.\n",
            "  FutureWarning\n"
          ],
          "name": "stderr"
        },
        {
          "output_type": "execute_result",
          "data": {
            "text/plain": [
              "<matplotlib.axes._subplots.AxesSubplot at 0x7f17ed67d150>"
            ]
          },
          "metadata": {
            "tags": []
          },
          "execution_count": 49
        },
        {
          "output_type": "display_data",
          "data": {
            "image/png": "[encoded data removed]",
            "text/plain": [
              "<Figure size 432x288 with 1 Axes>"
            ]
          },
          "metadata": {
            "tags": [],
            "needs_background": "light"
          }
        }
      ]
    },
    {
      "cell_type": "code",
      "metadata": {
        "colab": {
          "base_uri": "https://localhost:8080/"
        },
        "id": "PG0CFipt0F4j",
        "outputId": "d78de137-d383-4171-ed3f-8040419c7da5"
      },
      "source": [
        "df[\"thal\"].value_counts()"
      ],
      "execution_count": 50,
      "outputs": [
        {
          "output_type": "execute_result",
          "data": {
            "text/plain": [
              "2    166\n",
              "3    117\n",
              "1     18\n",
              "0      2\n",
              "Name: thal, dtype: int64"
            ]
          },
          "metadata": {
            "tags": []
          },
          "execution_count": 50
        }
      ]
    },
    {
      "cell_type": "markdown",
      "metadata": {
        "id": "4rPSgk6b19cq"
      },
      "source": [
        "#Data preparation\n",
        "\n",
        "Features to be one-hot encoded:\n",
        "- cp\n",
        "- restecg\n",
        "- slope\n",
        "- ca\n",
        "- thal\n",
        "\n",
        "Features which already are label-encoded:\n",
        "- sex\n",
        "- fbs\n",
        "- ca\n",
        "\n",
        "Everything will be normalized after."
      ]
    },
    {
      "cell_type": "code",
      "metadata": {
        "colab": {
          "base_uri": "https://localhost:8080/",
          "height": 194
        },
        "id": "JCkdnMNd2BiN",
        "outputId": "464f4ee5-10ab-46f2-f019-fdbad17b31f2"
      },
      "source": [
        "df.head()"
      ],
      "execution_count": 51,
      "outputs": [
        {
          "output_type": "execute_result",
          "data": {
            "text/html": [
              "<div>\n",
              "<style scoped>\n",
              "    .dataframe tbody tr th:only-of-type {\n",
              "        vertical-align: middle;\n",
              "    }\n",
              "\n",
              "    .dataframe tbody tr th {\n",
              "        vertical-align: top;\n",
              "    }\n",
              "\n",
              "    .dataframe thead th {\n",
              "        text-align: right;\n",
              "    }\n",
              "</style>\n",
              "<table border=\"1\" class=\"dataframe\">\n",
              "  <thead>\n",
              "    <tr style=\"text-align: right;\">\n",
              "      <th></th>\n",
              "      <th>age</th>\n",
              "      <th>sex</th>\n",
              "      <th>cp</th>\n",
              "      <th>trestbps</th>\n",
              "      <th>chol</th>\n",
              "      <th>fbs</th>\n",
              "      <th>restecg</th>\n",
              "      <th>thalach</th>\n",
              "      <th>exang</th>\n",
              "      <th>oldpeak</th>\n",
              "      <th>slope</th>\n",
              "      <th>ca</th>\n",
              "      <th>thal</th>\n",
              "      <th>id</th>\n",
              "    </tr>\n",
              "  </thead>\n",
              "  <tbody>\n",
              "    <tr>\n",
              "      <th>171</th>\n",
              "      <td>48</td>\n",
              "      <td>1</td>\n",
              "      <td>1</td>\n",
              "      <td>110</td>\n",
              "      <td>229</td>\n",
              "      <td>0</td>\n",
              "      <td>1</td>\n",
              "      <td>168</td>\n",
              "      <td>0</td>\n",
              "      <td>1.0</td>\n",
              "      <td>0</td>\n",
              "      <td>0</td>\n",
              "      <td>3</td>\n",
              "      <td>171</td>\n",
              "    </tr>\n",
              "    <tr>\n",
              "      <th>288</th>\n",
              "      <td>57</td>\n",
              "      <td>1</td>\n",
              "      <td>0</td>\n",
              "      <td>110</td>\n",
              "      <td>335</td>\n",
              "      <td>0</td>\n",
              "      <td>1</td>\n",
              "      <td>143</td>\n",
              "      <td>1</td>\n",
              "      <td>3.0</td>\n",
              "      <td>1</td>\n",
              "      <td>1</td>\n",
              "      <td>3</td>\n",
              "      <td>288</td>\n",
              "    </tr>\n",
              "    <tr>\n",
              "      <th>163</th>\n",
              "      <td>38</td>\n",
              "      <td>1</td>\n",
              "      <td>2</td>\n",
              "      <td>138</td>\n",
              "      <td>175</td>\n",
              "      <td>0</td>\n",
              "      <td>1</td>\n",
              "      <td>173</td>\n",
              "      <td>0</td>\n",
              "      <td>0.0</td>\n",
              "      <td>2</td>\n",
              "      <td>4</td>\n",
              "      <td>2</td>\n",
              "      <td>163</td>\n",
              "    </tr>\n",
              "    <tr>\n",
              "      <th>212</th>\n",
              "      <td>39</td>\n",
              "      <td>1</td>\n",
              "      <td>0</td>\n",
              "      <td>118</td>\n",
              "      <td>219</td>\n",
              "      <td>0</td>\n",
              "      <td>1</td>\n",
              "      <td>140</td>\n",
              "      <td>0</td>\n",
              "      <td>1.2</td>\n",
              "      <td>1</td>\n",
              "      <td>0</td>\n",
              "      <td>3</td>\n",
              "      <td>212</td>\n",
              "    </tr>\n",
              "    <tr>\n",
              "      <th>250</th>\n",
              "      <td>51</td>\n",
              "      <td>1</td>\n",
              "      <td>0</td>\n",
              "      <td>140</td>\n",
              "      <td>298</td>\n",
              "      <td>0</td>\n",
              "      <td>1</td>\n",
              "      <td>122</td>\n",
              "      <td>1</td>\n",
              "      <td>1.6</td>\n",
              "      <td>1</td>\n",
              "      <td>3</td>\n",
              "      <td>3</td>\n",
              "      <td>250</td>\n",
              "    </tr>\n",
              "  </tbody>\n",
              "</table>\n",
              "</div>"
            ],
            "text/plain": [
              "     age  sex  cp  trestbps  chol  fbs  ...  exang  oldpeak  slope  ca  thal   id\n",
              "171   48    1   1       110   229    0  ...      0      1.0      0   0     3  171\n",
              "288   57    1   0       110   335    0  ...      1      3.0      1   1     3  288\n",
              "163   38    1   2       138   175    0  ...      0      0.0      2   4     2  163\n",
              "212   39    1   0       118   219    0  ...      0      1.2      1   0     3  212\n",
              "250   51    1   0       140   298    0  ...      1      1.6      1   3     3  250\n",
              "\n",
              "[5 rows x 14 columns]"
            ]
          },
          "metadata": {
            "tags": []
          },
          "execution_count": 51
        }
      ]
    },
    {
      "cell_type": "code",
      "metadata": {
        "colab": {
          "base_uri": "https://localhost:8080/"
        },
        "id": "1JUJ_quX2CAn",
        "outputId": "409a9f58-c1b3-444d-a02a-fb02d3bcd120"
      },
      "source": [
        "df.info()"
      ],
      "execution_count": 52,
      "outputs": [
        {
          "output_type": "stream",
          "text": [
            "<class 'pandas.core.frame.DataFrame'>\n",
            "Int64Index: 303 entries, 171 to 77\n",
            "Data columns (total 14 columns):\n",
            " #   Column    Non-Null Count  Dtype  \n",
            "---  ------    --------------  -----  \n",
            " 0   age       303 non-null    int64  \n",
            " 1   sex       303 non-null    int64  \n",
            " 2   cp        303 non-null    int64  \n",
            " 3   trestbps  303 non-null    int64  \n",
            " 4   chol      303 non-null    int64  \n",
            " 5   fbs       303 non-null    int64  \n",
            " 6   restecg   303 non-null    int64  \n",
            " 7   thalach   303 non-null    int64  \n",
            " 8   exang     303 non-null    int64  \n",
            " 9   oldpeak   303 non-null    float64\n",
            " 10  slope     303 non-null    int64  \n",
            " 11  ca        303 non-null    int64  \n",
            " 12  thal      303 non-null    int64  \n",
            " 13  id        303 non-null    int64  \n",
            "dtypes: float64(1), int64(13)\n",
            "memory usage: 35.5 KB\n"
          ],
          "name": "stdout"
        }
      ]
    },
    {
      "cell_type": "markdown",
      "metadata": {
        "id": "JkJwBKR02CrV"
      },
      "source": [
        "##One hot encoding"
      ]
    },
    {
      "cell_type": "code",
      "metadata": {
        "id": "6fgf3xSr6Af6"
      },
      "source": [
        "from sklearn.compose import ColumnTransformer\n",
        "from sklearn.preprocessing import OneHotEncoder"
      ],
      "execution_count": 53,
      "outputs": []
    },
    {
      "cell_type": "code",
      "metadata": {
        "id": "PDQjQS5e6b3O"
      },
      "source": [
        "X = df"
      ],
      "execution_count": 54,
      "outputs": []
    },
    {
      "cell_type": "code",
      "metadata": {
        "colab": {
          "base_uri": "https://localhost:8080/",
          "height": 194
        },
        "id": "AdNdCVTD6VBY",
        "outputId": "2c559fae-97e8-4daf-a135-e9c48fb03084"
      },
      "source": [
        "X.head()"
      ],
      "execution_count": 55,
      "outputs": [
        {
          "output_type": "execute_result",
          "data": {
            "text/html": [
              "<div>\n",
              "<style scoped>\n",
              "    .dataframe tbody tr th:only-of-type {\n",
              "        vertical-align: middle;\n",
              "    }\n",
              "\n",
              "    .dataframe tbody tr th {\n",
              "        vertical-align: top;\n",
              "    }\n",
              "\n",
              "    .dataframe thead th {\n",
              "        text-align: right;\n",
              "    }\n",
              "</style>\n",
              "<table border=\"1\" class=\"dataframe\">\n",
              "  <thead>\n",
              "    <tr style=\"text-align: right;\">\n",
              "      <th></th>\n",
              "      <th>age</th>\n",
              "      <th>sex</th>\n",
              "      <th>cp</th>\n",
              "      <th>trestbps</th>\n",
              "      <th>chol</th>\n",
              "      <th>fbs</th>\n",
              "      <th>restecg</th>\n",
              "      <th>thalach</th>\n",
              "      <th>exang</th>\n",
              "      <th>oldpeak</th>\n",
              "      <th>slope</th>\n",
              "      <th>ca</th>\n",
              "      <th>thal</th>\n",
              "      <th>id</th>\n",
              "    </tr>\n",
              "  </thead>\n",
              "  <tbody>\n",
              "    <tr>\n",
              "      <th>171</th>\n",
              "      <td>48</td>\n",
              "      <td>1</td>\n",
              "      <td>1</td>\n",
              "      <td>110</td>\n",
              "      <td>229</td>\n",
              "      <td>0</td>\n",
              "      <td>1</td>\n",
              "      <td>168</td>\n",
              "      <td>0</td>\n",
              "      <td>1.0</td>\n",
              "      <td>0</td>\n",
              "      <td>0</td>\n",
              "      <td>3</td>\n",
              "      <td>171</td>\n",
              "    </tr>\n",
              "    <tr>\n",
              "      <th>288</th>\n",
              "      <td>57</td>\n",
              "      <td>1</td>\n",
              "      <td>0</td>\n",
              "      <td>110</td>\n",
              "      <td>335</td>\n",
              "      <td>0</td>\n",
              "      <td>1</td>\n",
              "      <td>143</td>\n",
              "      <td>1</td>\n",
              "      <td>3.0</td>\n",
              "      <td>1</td>\n",
              "      <td>1</td>\n",
              "      <td>3</td>\n",
              "      <td>288</td>\n",
              "    </tr>\n",
              "    <tr>\n",
              "      <th>163</th>\n",
              "      <td>38</td>\n",
              "      <td>1</td>\n",
              "      <td>2</td>\n",
              "      <td>138</td>\n",
              "      <td>175</td>\n",
              "      <td>0</td>\n",
              "      <td>1</td>\n",
              "      <td>173</td>\n",
              "      <td>0</td>\n",
              "      <td>0.0</td>\n",
              "      <td>2</td>\n",
              "      <td>4</td>\n",
              "      <td>2</td>\n",
              "      <td>163</td>\n",
              "    </tr>\n",
              "    <tr>\n",
              "      <th>212</th>\n",
              "      <td>39</td>\n",
              "      <td>1</td>\n",
              "      <td>0</td>\n",
              "      <td>118</td>\n",
              "      <td>219</td>\n",
              "      <td>0</td>\n",
              "      <td>1</td>\n",
              "      <td>140</td>\n",
              "      <td>0</td>\n",
              "      <td>1.2</td>\n",
              "      <td>1</td>\n",
              "      <td>0</td>\n",
              "      <td>3</td>\n",
              "      <td>212</td>\n",
              "    </tr>\n",
              "    <tr>\n",
              "      <th>250</th>\n",
              "      <td>51</td>\n",
              "      <td>1</td>\n",
              "      <td>0</td>\n",
              "      <td>140</td>\n",
              "      <td>298</td>\n",
              "      <td>0</td>\n",
              "      <td>1</td>\n",
              "      <td>122</td>\n",
              "      <td>1</td>\n",
              "      <td>1.6</td>\n",
              "      <td>1</td>\n",
              "      <td>3</td>\n",
              "      <td>3</td>\n",
              "      <td>250</td>\n",
              "    </tr>\n",
              "  </tbody>\n",
              "</table>\n",
              "</div>"
            ],
            "text/plain": [
              "     age  sex  cp  trestbps  chol  fbs  ...  exang  oldpeak  slope  ca  thal   id\n",
              "171   48    1   1       110   229    0  ...      0      1.0      0   0     3  171\n",
              "288   57    1   0       110   335    0  ...      1      3.0      1   1     3  288\n",
              "163   38    1   2       138   175    0  ...      0      0.0      2   4     2  163\n",
              "212   39    1   0       118   219    0  ...      0      1.2      1   0     3  212\n",
              "250   51    1   0       140   298    0  ...      1      1.6      1   3     3  250\n",
              "\n",
              "[5 rows x 14 columns]"
            ]
          },
          "metadata": {
            "tags": []
          },
          "execution_count": 55
        }
      ]
    },
    {
      "cell_type": "code",
      "metadata": {
        "id": "bTODka9PGWtM"
      },
      "source": [
        "ohe = OneHotEncoder(categories='auto')\n",
        "X = ohe.fit_transform(df[['cp','restecg',\"slope\",\"ca\",\"thal\"]]).toarray()"
      ],
      "execution_count": 56,
      "outputs": []
    },
    {
      "cell_type": "code",
      "metadata": {
        "colab": {
          "base_uri": "https://localhost:8080/"
        },
        "id": "D6bU61vdGjyw",
        "outputId": "cfae03f5-6789-4b47-8fbb-6dbaf4451f74"
      },
      "source": [
        "type(X), X.shape"
      ],
      "execution_count": 57,
      "outputs": [
        {
          "output_type": "execute_result",
          "data": {
            "text/plain": [
              "(numpy.ndarray, (303, 19))"
            ]
          },
          "metadata": {
            "tags": []
          },
          "execution_count": 57
        }
      ]
    },
    {
      "cell_type": "code",
      "metadata": {
        "colab": {
          "base_uri": "https://localhost:8080/"
        },
        "id": "FEOA8tOXGqjh",
        "outputId": "066d5896-b069-49a8-d35a-c82f74c7f088"
      },
      "source": [
        "X[0]"
      ],
      "execution_count": 58,
      "outputs": [
        {
          "output_type": "execute_result",
          "data": {
            "text/plain": [
              "array([0., 1., 0., 0., 0., 1., 0., 1., 0., 0., 1., 0., 0., 0., 0., 0., 0.,\n",
              "       0., 1.])"
            ]
          },
          "metadata": {
            "tags": []
          },
          "execution_count": 58
        }
      ]
    },
    {
      "cell_type": "code",
      "metadata": {
        "colab": {
          "base_uri": "https://localhost:8080/"
        },
        "id": "G9x-GZftHacp",
        "outputId": "e6d22358-2cd4-42f1-e92f-4991433d5e6c"
      },
      "source": [
        "df_array = np.array(df.drop(['cp','restecg',\"slope\",\"ca\",\"thal\"],axis=1))\n",
        "df_array[0]"
      ],
      "execution_count": 59,
      "outputs": [
        {
          "output_type": "execute_result",
          "data": {
            "text/plain": [
              "array([ 48.,   1., 110., 229.,   0., 168.,   0.,   1., 171.])"
            ]
          },
          "metadata": {
            "tags": []
          },
          "execution_count": 59
        }
      ]
    },
    {
      "cell_type": "code",
      "metadata": {
        "id": "q0JB1OamHp81"
      },
      "source": [
        "X = np.append(df_array,X,axis=1)"
      ],
      "execution_count": 60,
      "outputs": []
    },
    {
      "cell_type": "code",
      "metadata": {
        "colab": {
          "base_uri": "https://localhost:8080/"
        },
        "id": "-bTc6ZZXIDPa",
        "outputId": "d4bfc4a6-502e-40f0-db4e-435865dbbef1"
      },
      "source": [
        "#NOTE: \n",
        "# X[:,8] is the id\n",
        "X[:3]"
      ],
      "execution_count": 61,
      "outputs": [
        {
          "output_type": "execute_result",
          "data": {
            "text/plain": [
              "array([[ 48.,   1., 110., 229.,   0., 168.,   0.,   1., 171.,   0.,   1.,\n",
              "          0.,   0.,   0.,   1.,   0.,   1.,   0.,   0.,   1.,   0.,   0.,\n",
              "          0.,   0.,   0.,   0.,   0.,   1.],\n",
              "       [ 57.,   1., 110., 335.,   0., 143.,   1.,   3., 288.,   1.,   0.,\n",
              "          0.,   0.,   0.,   1.,   0.,   0.,   1.,   0.,   0.,   1.,   0.,\n",
              "          0.,   0.,   0.,   0.,   0.,   1.],\n",
              "       [ 38.,   1., 138., 175.,   0., 173.,   0.,   0., 163.,   0.,   0.,\n",
              "          1.,   0.,   0.,   1.,   0.,   0.,   0.,   1.,   0.,   0.,   0.,\n",
              "          0.,   1.,   0.,   0.,   1.,   0.]])"
            ]
          },
          "metadata": {
            "tags": []
          },
          "execution_count": 61
        }
      ]
    },
    {
      "cell_type": "code",
      "metadata": {
        "colab": {
          "base_uri": "https://localhost:8080/"
        },
        "id": "CYUV4MV9IHaA",
        "outputId": "7e2777ec-bf46-49b3-dc7e-b9f47b9080ce"
      },
      "source": [
        "X.shape"
      ],
      "execution_count": 62,
      "outputs": [
        {
          "output_type": "execute_result",
          "data": {
            "text/plain": [
              "(303, 28)"
            ]
          },
          "metadata": {
            "tags": []
          },
          "execution_count": 62
        }
      ]
    },
    {
      "cell_type": "markdown",
      "metadata": {
        "id": "qhBbLB5oNTlc"
      },
      "source": [
        "##Normalize data"
      ]
    },
    {
      "cell_type": "code",
      "metadata": {
        "id": "jGs0Owi3NVlf"
      },
      "source": [
        "from sklearn.preprocessing import MinMaxScaler"
      ],
      "execution_count": 63,
      "outputs": []
    },
    {
      "cell_type": "code",
      "metadata": {
        "colab": {
          "base_uri": "https://localhost:8080/"
        },
        "id": "Ea6M-p6MNe_U",
        "outputId": "f912d111-6413-4b5b-8370-4a47fd9b86b2"
      },
      "source": [
        "scaler = MinMaxScaler(feature_range=(0,1))\n",
        "X = scaler.fit_transform(X)\n",
        "X[:3]"
      ],
      "execution_count": 64,
      "outputs": [
        {
          "output_type": "execute_result",
          "data": {
            "text/plain": [
              "array([[0.39583333, 1.        , 0.21052632, 0.23515982, 0.        ,\n",
              "        0.68224299, 0.        , 0.25      , 0.56622517, 0.        ,\n",
              "        1.        , 0.        , 0.        , 0.        , 1.        ,\n",
              "        0.        , 1.        , 0.        , 0.        , 1.        ,\n",
              "        0.        , 0.        , 0.        , 0.        , 0.        ,\n",
              "        0.        , 0.        , 1.        ],\n",
              "       [0.58333333, 1.        , 0.21052632, 0.47716895, 0.        ,\n",
              "        0.44859813, 1.        , 0.75      , 0.95364238, 1.        ,\n",
              "        0.        , 0.        , 0.        , 0.        , 1.        ,\n",
              "        0.        , 0.        , 1.        , 0.        , 0.        ,\n",
              "        1.        , 0.        , 0.        , 0.        , 0.        ,\n",
              "        0.        , 0.        , 1.        ],\n",
              "       [0.1875    , 1.        , 0.57894737, 0.11187215, 0.        ,\n",
              "        0.72897196, 0.        , 0.        , 0.5397351 , 0.        ,\n",
              "        0.        , 1.        , 0.        , 0.        , 1.        ,\n",
              "        0.        , 0.        , 0.        , 1.        , 0.        ,\n",
              "        0.        , 0.        , 0.        , 1.        , 0.        ,\n",
              "        0.        , 1.        , 0.        ]])"
            ]
          },
          "metadata": {
            "tags": []
          },
          "execution_count": 64
        }
      ]
    },
    {
      "cell_type": "code",
      "metadata": {
        "colab": {
          "base_uri": "https://localhost:8080/"
        },
        "id": "loStEh2xPW-m",
        "outputId": "6b4fde0a-b349-4b14-f321-95eaa3432c03"
      },
      "source": [
        "scaler.inverse_transform(X)[:3]"
      ],
      "execution_count": 65,
      "outputs": [
        {
          "output_type": "execute_result",
          "data": {
            "text/plain": [
              "array([[ 48.,   1., 110., 229.,   0., 168.,   0.,   1., 171.,   0.,   1.,\n",
              "          0.,   0.,   0.,   1.,   0.,   1.,   0.,   0.,   1.,   0.,   0.,\n",
              "          0.,   0.,   0.,   0.,   0.,   1.],\n",
              "       [ 57.,   1., 110., 335.,   0., 143.,   1.,   3., 288.,   1.,   0.,\n",
              "          0.,   0.,   0.,   1.,   0.,   0.,   1.,   0.,   0.,   1.,   0.,\n",
              "          0.,   0.,   0.,   0.,   0.,   1.],\n",
              "       [ 38.,   1., 138., 175.,   0., 173.,   0.,   0., 163.,   0.,   0.,\n",
              "          1.,   0.,   0.,   1.,   0.,   0.,   0.,   1.,   0.,   0.,   0.,\n",
              "          0.,   1.,   0.,   0.,   1.,   0.]])"
            ]
          },
          "metadata": {
            "tags": []
          },
          "execution_count": 65
        }
      ]
    },
    {
      "cell_type": "markdown",
      "metadata": {
        "id": "7LUv0RJgHXOV"
      },
      "source": [
        "#Modelling"
      ]
    },
    {
      "cell_type": "markdown",
      "metadata": {
        "id": "Pj9baqGn-Q5P"
      },
      "source": [
        "##Create SOM"
      ]
    },
    {
      "cell_type": "code",
      "metadata": {
        "colab": {
          "base_uri": "https://localhost:8080/"
        },
        "id": "7McHZ-ko9Zn9",
        "outputId": "024f525b-8eb6-418a-c86e-fc44cc3d2491"
      },
      "source": [
        "!pip install MiniSom"
      ],
      "execution_count": 66,
      "outputs": [
        {
          "output_type": "stream",
          "text": [
            "Collecting MiniSom\n",
            "  Downloading https://files.pythonhosted.org/packages/00/4a/03dbf8480357a9fbd67a79fae8e510d55c42466fbe7744cb36bbd3e80267/MiniSom-2.2.8.tar.gz\n",
            "Building wheels for collected packages: MiniSom\n",
            "  Building wheel for MiniSom (setup.py) ... \u001b[?25l\u001b[?25hdone\n",
            "  Created wheel for MiniSom: filename=MiniSom-2.2.8-cp37-none-any.whl size=8604 sha256=9e2614b4677391afa92192770a44d01efcc6a5da336d131677bf6b0b4aa14667\n",
            "  Stored in directory: /root/.cache/pip/wheels/78/7e/a8/435947263149d3b94fa65339751f8c65617c436b0bdfb29c7d\n",
            "Successfully built MiniSom\n",
            "Installing collected packages: MiniSom\n",
            "Successfully installed MiniSom-2.2.8\n"
          ],
          "name": "stdout"
        }
      ]
    },
    {
      "cell_type": "code",
      "metadata": {
        "id": "RpbT0ifB9g2t"
      },
      "source": [
        "from minisom import MiniSom"
      ],
      "execution_count": 67,
      "outputs": []
    },
    {
      "cell_type": "code",
      "metadata": {
        "colab": {
          "base_uri": "https://localhost:8080/"
        },
        "id": "dUczWAlE901N",
        "outputId": "456ef437-0afc-4644-8980-598a75109078"
      },
      "source": [
        "X.shape #28 features"
      ],
      "execution_count": 68,
      "outputs": [
        {
          "output_type": "execute_result",
          "data": {
            "text/plain": [
              "(303, 28)"
            ]
          },
          "metadata": {
            "tags": []
          },
          "execution_count": 68
        }
      ]
    },
    {
      "cell_type": "code",
      "metadata": {
        "colab": {
          "base_uri": "https://localhost:8080/"
        },
        "id": "xHeArC_293s9",
        "outputId": "6b2f1bce-6a25-47f4-a90c-4bcc353540a0"
      },
      "source": [
        "som = MiniSom(x=10,\n",
        "              y=10,\n",
        "              input_len=X.shape[1],\n",
        "              sigma=1,\n",
        "              learning_rate=0.5,\n",
        "              random_seed=42)\n",
        "\n",
        "som.random_weights_init(X)\n",
        "som.train_random(X,100, verbose=True)"
      ],
      "execution_count": 69,
      "outputs": [
        {
          "output_type": "stream",
          "text": [
            "\r [   0 / 100 ]   0% - ? it/s\r [   0 / 100 ]   0% - ? it/s\r [   1 / 100 ]   1% - 0:00:00 left \r [   2 / 100 ]   2% - 0:00:00 left \r [   3 / 100 ]   3% - 0:00:00 left \r [   4 / 100 ]   4% - 0:00:00 left \r [   5 / 100 ]   5% - 0:00:00 left \r [   6 / 100 ]   6% - 0:00:00 left \r [   7 / 100 ]   7% - 0:00:00 left \r [   8 / 100 ]   8% - 0:00:00 left \r [   9 / 100 ]   9% - 0:00:00 left \r [  10 / 100 ]  10% - 0:00:00 left \r [  11 / 100 ]  11% - 0:00:00 left \r [  12 / 100 ]  12% - 0:00:00 left \r [  13 / 100 ]  13% - 0:00:00 left \r [  14 / 100 ]  14% - 0:00:00 left \r [  15 / 100 ]  15% - 0:00:00 left \r [  16 / 100 ]  16% - 0:00:00 left \r [  17 / 100 ]  17% - 0:00:00 left \r [  18 / 100 ]  18% - 0:00:00 left \r [  19 / 100 ]  19% - 0:00:00 left \r [  20 / 100 ]  20% - 0:00:00 left \r [  21 / 100 ]  21% - 0:00:00 left \r [  22 / 100 ]  22% - 0:00:00 left \r [  23 / 100 ]  23% - 0:00:00 left \r [  24 / 100 ]  24% - 0:00:00 left \r [  25 / 100 ]  25% - 0:00:00 left \r [  26 / 100 ]  26% - 0:00:00 left \r [  27 / 100 ]  27% - 0:00:00 left \r [  28 / 100 ]  28% - 0:00:00 left \r [  29 / 100 ]  29% - 0:00:00 left \r [  30 / 100 ]  30% - 0:00:00 left \r [  31 / 100 ]  31% - 0:00:00 left \r [  32 / 100 ]  32% - 0:00:00 left \r [  33 / 100 ]  33% - 0:00:00 left \r [  34 / 100 ]  34% - 0:00:00 left \r [  35 / 100 ]  35% - 0:00:00 left \r [  36 / 100 ]  36% - 0:00:00 left \r [  37 / 100 ]  37% - 0:00:00 left \r [  38 / 100 ]  38% - 0:00:00 left \r [  39 / 100 ]  39% - 0:00:00 left \r [  40 / 100 ]  40% - 0:00:00 left \r [  41 / 100 ]  41% - 0:00:00 left \r [  42 / 100 ]  42% - 0:00:00 left \r [  43 / 100 ]  43% - 0:00:00 left \r [  44 / 100 ]  44% - 0:00:00 left \r [  45 / 100 ]  45% - 0:00:00 left \r [  46 / 100 ]  46% - 0:00:00 left \r [  47 / 100 ]  47% - 0:00:00 left \r [  48 / 100 ]  48% - 0:00:00 left \r [  49 / 100 ]  49% - 0:00:00 left \r [  50 / 100 ]  50% - 0:00:00 left \r [  51 / 100 ]  51% - 0:00:00 left \r [  52 / 100 ]  52% - 0:00:00 left \r [  53 / 100 ]  53% - 0:00:00 left \r [  54 / 100 ]  54% - 0:00:00 left \r [  55 / 100 ]  55% - 0:00:00 left \r [  56 / 100 ]  56% - 0:00:00 left \r [  57 / 100 ]  57% - 0:00:00 left \r [  58 / 100 ]  58% - 0:00:00 left \r [  59 / 100 ]  59% - 0:00:00 left \r [  60 / 100 ]  60% - 0:00:00 left \r [  61 / 100 ]  61% - 0:00:00 left \r [  62 / 100 ]  62% - 0:00:00 left \r [  63 / 100 ]  63% - 0:00:00 left \r [  64 / 100 ]  64% - 0:00:00 left \r [  65 / 100 ]  65% - 0:00:00 left \r [  66 / 100 ]  66% - 0:00:00 left \r [  67 / 100 ]  67% - 0:00:00 left \r [  68 / 100 ]  68% - 0:00:00 left \r [  69 / 100 ]  69% - 0:00:00 left \r [  70 / 100 ]  70% - 0:00:00 left \r [  71 / 100 ]  71% - 0:00:00 left \r [  72 / 100 ]  72% - 0:00:00 left \r [  73 / 100 ]  73% - 0:00:00 left \r [  74 / 100 ]  74% - 0:00:00 left \r [  75 / 100 ]  75% - 0:00:00 left \r [  76 / 100 ]  76% - 0:00:00 left \r [  77 / 100 ]  77% - 0:00:00 left \r [  78 / 100 ]  78% - 0:00:00 left \r [  79 / 100 ]  79% - 0:00:00 left \r [  80 / 100 ]  80% - 0:00:00 left \r [  81 / 100 ]  81% - 0:00:00 left \r [  82 / 100 ]  82% - 0:00:00 left \r [  83 / 100 ]  83% - 0:00:00 left \r [  84 / 100 ]  84% - 0:00:00 left \r [  85 / 100 ]  85% - 0:00:00 left \r [  86 / 100 ]  86% - 0:00:00 left \r [  87 / 100 ]  87% - 0:00:00 left \r [  88 / 100 ]  88% - 0:00:00 left \r [  89 / 100 ]  89% - 0:00:00 left \r [  90 / 100 ]  90% - 0:00:00 left \r [  91 / 100 ]  91% - 0:00:00 left \r [  92 / 100 ]  92% - 0:00:00 left \r [  93 / 100 ]  93% - 0:00:00 left \r [  94 / 100 ]  94% - 0:00:00 left \r [  95 / 100 ]  95% - 0:00:00 left \r [  96 / 100 ]  96% - 0:00:00 left \r [  97 / 100 ]  97% - 0:00:00 left \r [  98 / 100 ]  98% - 0:00:00 left \r [  99 / 100 ]  99% - 0:00:00 left \r [ 100 / 100 ] 100% - 0:00:00 left \n",
            " quantization error: 0.9766642601203163\n"
          ],
          "name": "stdout"
        }
      ]
    },
    {
      "cell_type": "markdown",
      "metadata": {
        "id": "kzlOi6Ja-O3F"
      },
      "source": [
        "##Visualize map"
      ]
    },
    {
      "cell_type": "code",
      "metadata": {
        "id": "ryEBuh2s-ToF"
      },
      "source": [
        "from pylab import bone, pcolor, colorbar, plot, show"
      ],
      "execution_count": 70,
      "outputs": []
    },
    {
      "cell_type": "code",
      "metadata": {
        "colab": {
          "base_uri": "https://localhost:8080/",
          "height": 269
        },
        "id": "ubFebeIj-X5s",
        "outputId": "0fd7de32-ba6b-4fed-89ca-e1537a0ee01e"
      },
      "source": [
        "pcolor(som.distance_map().T)\n",
        "colorbar()\n",
        "bone()"
      ],
      "execution_count": 71,
      "outputs": [
        {
          "output_type": "display_data",
          "data": {
            "image/png": "[encoded data removed]",
            "text/plain": [
              "<Figure size 432x288 with 2 Axes>"
            ]
          },
          "metadata": {
            "tags": [],
            "needs_background": "light"
          }
        }
      ]
    },
    {
      "cell_type": "markdown",
      "metadata": {
        "id": "D2PUIjVi---e"
      },
      "source": [
        "##Evaluation\n",
        "\n",
        "I will find the dataframe rows contained in the winning nodes and compare some of the features."
      ]
    },
    {
      "cell_type": "code",
      "metadata": {
        "id": "lC23J_co_qXW"
      },
      "source": [
        "mapping = som.win_map(X)\n",
        "cord1 = (5,3)\n",
        "cord2 = (7,8)\n",
        "cord3 = (8,2)"
      ],
      "execution_count": 89,
      "outputs": []
    },
    {
      "cell_type": "code",
      "metadata": {
        "colab": {
          "base_uri": "https://localhost:8080/"
        },
        "id": "FnCjwQv2TvPk",
        "outputId": "9ecad1f5-8f06-4c77-b4e7-6844c4b36edd"
      },
      "source": [
        "np.array(mapping[cord1]).shape, np.array(mapping[cord2]).shape, np.array(mapping[cord3]).shape"
      ],
      "execution_count": 90,
      "outputs": [
        {
          "output_type": "execute_result",
          "data": {
            "text/plain": [
              "((2, 28), (1, 28), (4, 28))"
            ]
          },
          "metadata": {
            "tags": []
          },
          "execution_count": 90
        }
      ]
    },
    {
      "cell_type": "code",
      "metadata": {
        "id": "peq7Pl8KKXJR"
      },
      "source": [
        "winners = np.concatenate([mapping[cord1],mapping[cord2], mapping[cord3]],axis=0)"
      ],
      "execution_count": 91,
      "outputs": []
    },
    {
      "cell_type": "code",
      "metadata": {
        "colab": {
          "base_uri": "https://localhost:8080/"
        },
        "id": "eHZ-ozTMMfOE",
        "outputId": "73a38552-ed90-43fc-9367-07327f8705a8"
      },
      "source": [
        "len(winners)"
      ],
      "execution_count": 92,
      "outputs": [
        {
          "output_type": "execute_result",
          "data": {
            "text/plain": [
              "7"
            ]
          },
          "metadata": {
            "tags": []
          },
          "execution_count": 92
        }
      ]
    },
    {
      "cell_type": "code",
      "metadata": {
        "colab": {
          "base_uri": "https://localhost:8080/"
        },
        "id": "fWPLMetxN2mG",
        "outputId": "194ebb98-77a9-4191-9a84-84b88a056d83"
      },
      "source": [
        "winners[0]"
      ],
      "execution_count": 93,
      "outputs": [
        {
          "output_type": "execute_result",
          "data": {
            "text/plain": [
              "array([0.8125    , 1.        , 0.65789474, 0.15296804, 1.        ,\n",
              "       0.42990654, 0.        , 0.85      , 0.99337748, 1.        ,\n",
              "       0.        , 0.        , 0.        , 0.        , 1.        ,\n",
              "       0.        , 0.        , 1.        , 0.        , 0.        ,\n",
              "       0.        , 1.        , 0.        , 0.        , 0.        ,\n",
              "       0.        , 0.        , 1.        ])"
            ]
          },
          "metadata": {
            "tags": []
          },
          "execution_count": 93
        }
      ]
    },
    {
      "cell_type": "code",
      "metadata": {
        "id": "mMmnEyDLN5VG"
      },
      "source": [
        "winners = scaler.inverse_transform(winners)"
      ],
      "execution_count": 94,
      "outputs": []
    },
    {
      "cell_type": "code",
      "metadata": {
        "colab": {
          "base_uri": "https://localhost:8080/"
        },
        "id": "di2rFNOON8x9",
        "outputId": "43917f16-e6b5-480d-f6b2-d9e13007b994"
      },
      "source": [
        "winners[0]"
      ],
      "execution_count": 95,
      "outputs": [
        {
          "output_type": "execute_result",
          "data": {
            "text/plain": [
              "array([ 68. ,   1. , 144. , 193. ,   1. , 141. ,   0. ,   3.4, 300. ,\n",
              "         1. ,   0. ,   0. ,   0. ,   0. ,   1. ,   0. ,   0. ,   1. ,\n",
              "         0. ,   0. ,   0. ,   1. ,   0. ,   0. ,   0. ,   0. ,   0. ,\n",
              "         1. ])"
            ]
          },
          "metadata": {
            "tags": []
          },
          "execution_count": 95
        }
      ]
    },
    {
      "cell_type": "code",
      "metadata": {
        "colab": {
          "base_uri": "https://localhost:8080/"
        },
        "id": "s2dVq5f1N9ve",
        "outputId": "244ce8cd-aaa1-4fc1-a9ab-cd20138b0f56"
      },
      "source": [
        "ids = winners[:,8]\n",
        "ids"
      ],
      "execution_count": 96,
      "outputs": [
        {
          "output_type": "execute_result",
          "data": {
            "text/plain": [
              "array([300., 197., 144., 285., 262., 198., 260.])"
            ]
          },
          "metadata": {
            "tags": []
          },
          "execution_count": 96
        }
      ]
    },
    {
      "cell_type": "code",
      "metadata": {
        "id": "ZdyJP8LzYEKh"
      },
      "source": [
        "winner_df = df[df[\"id\"].isin(ids)]"
      ],
      "execution_count": 98,
      "outputs": []
    },
    {
      "cell_type": "code",
      "metadata": {
        "colab": {
          "base_uri": "https://localhost:8080/",
          "height": 252
        },
        "id": "TOP8V44rlLPV",
        "outputId": "00763bc2-f1a7-49f0-b224-e74a91b049d9"
      },
      "source": [
        "winner_df"
      ],
      "execution_count": 100,
      "outputs": [
        {
          "output_type": "execute_result",
          "data": {
            "text/html": [
              "<div>\n",
              "<style scoped>\n",
              "    .dataframe tbody tr th:only-of-type {\n",
              "        vertical-align: middle;\n",
              "    }\n",
              "\n",
              "    .dataframe tbody tr th {\n",
              "        vertical-align: top;\n",
              "    }\n",
              "\n",
              "    .dataframe thead th {\n",
              "        text-align: right;\n",
              "    }\n",
              "</style>\n",
              "<table border=\"1\" class=\"dataframe\">\n",
              "  <thead>\n",
              "    <tr style=\"text-align: right;\">\n",
              "      <th></th>\n",
              "      <th>age</th>\n",
              "      <th>sex</th>\n",
              "      <th>cp</th>\n",
              "      <th>trestbps</th>\n",
              "      <th>chol</th>\n",
              "      <th>fbs</th>\n",
              "      <th>restecg</th>\n",
              "      <th>thalach</th>\n",
              "      <th>exang</th>\n",
              "      <th>oldpeak</th>\n",
              "      <th>slope</th>\n",
              "      <th>ca</th>\n",
              "      <th>thal</th>\n",
              "      <th>id</th>\n",
              "    </tr>\n",
              "  </thead>\n",
              "  <tbody>\n",
              "    <tr>\n",
              "      <th>285</th>\n",
              "      <td>46</td>\n",
              "      <td>1</td>\n",
              "      <td>0</td>\n",
              "      <td>140</td>\n",
              "      <td>311</td>\n",
              "      <td>0</td>\n",
              "      <td>1</td>\n",
              "      <td>120</td>\n",
              "      <td>1</td>\n",
              "      <td>1.8</td>\n",
              "      <td>1</td>\n",
              "      <td>2</td>\n",
              "      <td>3</td>\n",
              "      <td>285</td>\n",
              "    </tr>\n",
              "    <tr>\n",
              "      <th>300</th>\n",
              "      <td>68</td>\n",
              "      <td>1</td>\n",
              "      <td>0</td>\n",
              "      <td>144</td>\n",
              "      <td>193</td>\n",
              "      <td>1</td>\n",
              "      <td>1</td>\n",
              "      <td>141</td>\n",
              "      <td>0</td>\n",
              "      <td>3.4</td>\n",
              "      <td>1</td>\n",
              "      <td>2</td>\n",
              "      <td>3</td>\n",
              "      <td>300</td>\n",
              "    </tr>\n",
              "    <tr>\n",
              "      <th>262</th>\n",
              "      <td>53</td>\n",
              "      <td>1</td>\n",
              "      <td>0</td>\n",
              "      <td>123</td>\n",
              "      <td>282</td>\n",
              "      <td>0</td>\n",
              "      <td>1</td>\n",
              "      <td>95</td>\n",
              "      <td>1</td>\n",
              "      <td>2.0</td>\n",
              "      <td>1</td>\n",
              "      <td>2</td>\n",
              "      <td>3</td>\n",
              "      <td>262</td>\n",
              "    </tr>\n",
              "    <tr>\n",
              "      <th>198</th>\n",
              "      <td>62</td>\n",
              "      <td>1</td>\n",
              "      <td>0</td>\n",
              "      <td>120</td>\n",
              "      <td>267</td>\n",
              "      <td>0</td>\n",
              "      <td>1</td>\n",
              "      <td>99</td>\n",
              "      <td>1</td>\n",
              "      <td>1.8</td>\n",
              "      <td>1</td>\n",
              "      <td>2</td>\n",
              "      <td>3</td>\n",
              "      <td>198</td>\n",
              "    </tr>\n",
              "    <tr>\n",
              "      <th>144</th>\n",
              "      <td>76</td>\n",
              "      <td>0</td>\n",
              "      <td>2</td>\n",
              "      <td>140</td>\n",
              "      <td>197</td>\n",
              "      <td>0</td>\n",
              "      <td>2</td>\n",
              "      <td>116</td>\n",
              "      <td>0</td>\n",
              "      <td>1.1</td>\n",
              "      <td>1</td>\n",
              "      <td>0</td>\n",
              "      <td>2</td>\n",
              "      <td>144</td>\n",
              "    </tr>\n",
              "    <tr>\n",
              "      <th>197</th>\n",
              "      <td>67</td>\n",
              "      <td>1</td>\n",
              "      <td>0</td>\n",
              "      <td>125</td>\n",
              "      <td>254</td>\n",
              "      <td>1</td>\n",
              "      <td>1</td>\n",
              "      <td>163</td>\n",
              "      <td>0</td>\n",
              "      <td>0.2</td>\n",
              "      <td>1</td>\n",
              "      <td>2</td>\n",
              "      <td>3</td>\n",
              "      <td>197</td>\n",
              "    </tr>\n",
              "    <tr>\n",
              "      <th>260</th>\n",
              "      <td>66</td>\n",
              "      <td>0</td>\n",
              "      <td>0</td>\n",
              "      <td>140</td>\n",
              "      <td>228</td>\n",
              "      <td>1</td>\n",
              "      <td>1</td>\n",
              "      <td>165</td>\n",
              "      <td>1</td>\n",
              "      <td>1.0</td>\n",
              "      <td>1</td>\n",
              "      <td>2</td>\n",
              "      <td>3</td>\n",
              "      <td>260</td>\n",
              "    </tr>\n",
              "  </tbody>\n",
              "</table>\n",
              "</div>"
            ],
            "text/plain": [
              "     age  sex  cp  trestbps  chol  fbs  ...  exang  oldpeak  slope  ca  thal   id\n",
              "285   46    1   0       140   311    0  ...      1      1.8      1   2     3  285\n",
              "300   68    1   0       144   193    1  ...      0      3.4      1   2     3  300\n",
              "262   53    1   0       123   282    0  ...      1      2.0      1   2     3  262\n",
              "198   62    1   0       120   267    0  ...      1      1.8      1   2     3  198\n",
              "144   76    0   2       140   197    0  ...      0      1.1      1   0     2  144\n",
              "197   67    1   0       125   254    1  ...      0      0.2      1   2     3  197\n",
              "260   66    0   0       140   228    1  ...      1      1.0      1   2     3  260\n",
              "\n",
              "[7 rows x 14 columns]"
            ]
          },
          "metadata": {
            "tags": []
          },
          "execution_count": 100
        }
      ]
    },
    {
      "cell_type": "markdown",
      "metadata": {
        "id": "XJCDqIc0ovLK"
      },
      "source": [
        "The SOM definetly has keep the data patterns as many of these values are quite close to eachother.\n",
        "\n",
        "I will plot a few of them and compare them to the value-range of the original values."
      ]
    },
    {
      "cell_type": "markdown",
      "metadata": {
        "id": "aBU5SHnBnSMU"
      },
      "source": [
        "###CP"
      ]
    },
    {
      "cell_type": "code",
      "metadata": {
        "colab": {
          "base_uri": "https://localhost:8080/",
          "height": 262
        },
        "id": "To6z6X71pEbb",
        "outputId": "e61d5382-c2f9-478c-853e-6a5e210a0be0"
      },
      "source": [
        "#Destribution of cp\n",
        "df[\"cp\"].value_counts().plot(kind=\"bar\", color=[\"salmon\", \"lightblue\",\"lightseagreen\",\"mediumorchid\"]);"
      ],
      "execution_count": 107,
      "outputs": [
        {
          "output_type": "display_data",
          "data": {
            "image/png": "[encoded data removed]",
            "text/plain": [
              "<Figure size 432x288 with 1 Axes>"
            ]
          },
          "metadata": {
            "tags": [],
            "needs_background": "light"
          }
        }
      ]
    },
    {
      "cell_type": "code",
      "metadata": {
        "colab": {
          "base_uri": "https://localhost:8080/",
          "height": 262
        },
        "id": "1535YDUhpGmK",
        "outputId": "3525474f-e830-4f0f-c540-c4f949a865bd"
      },
      "source": [
        "#Values containing 1 and 3 are gone\n",
        "winner_df[\"cp\"].value_counts().plot(kind=\"bar\", color=[\"salmon\", \"lightblue\"]);"
      ],
      "execution_count": 108,
      "outputs": [
        {
          "output_type": "display_data",
          "data": {
            "image/png": "[encoded data removed]",
            "text/plain": [
              "<Figure size 432x288 with 1 Axes>"
            ]
          },
          "metadata": {
            "tags": [],
            "needs_background": "light"
          }
        }
      ]
    },
    {
      "cell_type": "markdown",
      "metadata": {
        "id": "x3iMFQi4pKgD"
      },
      "source": [
        "###Restecg"
      ]
    },
    {
      "cell_type": "code",
      "metadata": {
        "colab": {
          "base_uri": "https://localhost:8080/",
          "height": 262
        },
        "id": "kTLXxotMpiZE",
        "outputId": "c83c0125-06e7-4883-92c0-5e528f47c008"
      },
      "source": [
        "df[\"restecg\"].value_counts().plot(kind=\"bar\", color=[\"salmon\", \"lightblue\", \"lightseagreen\"]);"
      ],
      "execution_count": 109,
      "outputs": [
        {
          "output_type": "display_data",
          "data": {
            "image/png": "[encoded data removed]",
            "text/plain": [
              "<Figure size 432x288 with 1 Axes>"
            ]
          },
          "metadata": {
            "tags": [],
            "needs_background": "light"
          }
        }
      ]
    },
    {
      "cell_type": "code",
      "metadata": {
        "colab": {
          "base_uri": "https://localhost:8080/",
          "height": 262
        },
        "id": "BTTQubrxpiZF",
        "outputId": "4e30c718-e7ae-481f-c091-a1b9bda150a0"
      },
      "source": [
        "#No occurences of restecg=0\n",
        "winner_df[\"restecg\"].value_counts().plot(kind=\"bar\", color=[\"salmon\", \"lightseagreen\"]);"
      ],
      "execution_count": 110,
      "outputs": [
        {
          "output_type": "display_data",
          "data": {
            "image/png": "[encoded data removed]",
            "text/plain": [
              "<Figure size 432x288 with 1 Axes>"
            ]
          },
          "metadata": {
            "tags": [],
            "needs_background": "light"
          }
        }
      ]
    },
    {
      "cell_type": "markdown",
      "metadata": {
        "id": "lHv5-xjAqWEo"
      },
      "source": [
        "##thal"
      ]
    },
    {
      "cell_type": "code",
      "metadata": {
        "colab": {
          "base_uri": "https://localhost:8080/",
          "height": 262
        },
        "id": "e-zFvpFIqWEr",
        "outputId": "a60dd47c-792e-49e4-844e-ca5211ae38de"
      },
      "source": [
        "df[\"thal\"].value_counts().plot(kind=\"bar\", color=[\"salmon\", \"lightblue\", \"lightseagreen\", \"mediumorchid\"]);"
      ],
      "execution_count": null,
      "outputs": [
        {
          "output_type": "display_data",
          "data": {
            "image/png": "[encoded data removed]",
            "text/plain": [
              "<Figure size 432x288 with 1 Axes>"
            ]
          },
          "metadata": {
            "tags": [],
            "needs_background": "light"
          }
        }
      ]
    },
    {
      "cell_type": "code",
      "metadata": {
        "colab": {
          "base_uri": "https://localhost:8080/",
          "height": 262
        },
        "id": "BR1KCgGUqYut",
        "outputId": "1024c51a-f96f-4ecf-ddbc-4f2ea51c19e5"
      },
      "source": [
        "winner_df[\"thal\"].value_counts().plot(kind=\"bar\", color=[\"salmon\", \"lightblue\"]);"
      ],
      "execution_count": 115,
      "outputs": [
        {
          "output_type": "display_data",
          "data": {
            "image/png": "[encoded data removed]",
            "text/plain": [
              "<Figure size 432x288 with 1 Axes>"
            ]
          },
          "metadata": {
            "tags": [],
            "needs_background": "light"
          }
        }
      ]
    },
    {
      "cell_type": "markdown",
      "metadata": {
        "id": "yJgoMLnYqhjO"
      },
      "source": [
        "#Evaluation\n",
        "\n",
        "The SOM found rows from the dataframe which are alike. Since this data orignal reflected patients with or without a heartdisease, I do wonder if the winner_df actually reflects that. I feel like it more reflects patients who are in a specific \"health group\" more than it reflects wether or not they have a heart disease."
      ]
    },
    {
      "cell_type": "code",
      "metadata": {
        "id": "5UF8FsGcrRL-"
      },
      "source": [
        ""
      ],
      "execution_count": null,
      "outputs": []
    }
  ]
}